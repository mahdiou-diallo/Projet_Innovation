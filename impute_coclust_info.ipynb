{
 "cells": [
  {
   "cell_type": "code",
   "execution_count": 1,
   "metadata": {},
   "outputs": [],
   "source": [
    "import numpy as np\n",
    "import pandas as pd\n",
    "import scipy.io as sio\n",
    "import joblib\n",
    "from coclust.coclustering import CoclustInfo, CoclustMod\n",
    "from ampute import ampute_mar, ampute_mcar\n",
    "from utils import (show_matrix, _impute_block_representative, RMSE)\n",
    "from colust_info_impute import CoclustInfoImpute\n",
    "\n",
    "from sklearn.metrics.cluster import normalized_mutual_info_score as NMI\n",
    "\n",
    "import warnings\n",
    "warnings.filterwarnings(\"ignore\")"
   ]
  },
  {
   "cell_type": "code",
   "execution_count": 118,
   "metadata": {},
   "outputs": [
    {
     "data": {
      "text/plain": [
       "array([[ 0.,  0.,  0.,  0., nan,  0.,  0.,  1.,  0., nan,  1., nan, nan,\n",
       "         0.,  0.,  0.],\n",
       "       [ 0.,  1., nan, nan,  0.,  0.,  1.,  0.,  0.,  0.,  0., nan,  0.,\n",
       "         0.,  1.,  0.],\n",
       "       [ 0.,  0.,  0.,  0.,  0.,  0.,  0.,  1.,  0.,  0.,  1.,  0.,  0.,\n",
       "        nan,  0.,  0.],\n",
       "       [ 1.,  0.,  0., nan,  1.,  1.,  0., nan, nan,  1.,  0.,  0.,  1.,\n",
       "         1.,  0.,  1.],\n",
       "       [nan, nan, nan,  1.,  0., nan,  1.,  0.,  0., nan,  0.,  1.,  0.,\n",
       "         0., nan,  0.],\n",
       "       [ 1.,  0., nan,  0.,  1.,  1.,  0.,  0.,  1.,  1.,  0.,  0.,  1.,\n",
       "         1., nan,  1.],\n",
       "       [ 0., nan,  0.,  0., nan,  0.,  0.,  0.,  1.,  1.,  0.,  0.,  1.,\n",
       "         1., nan,  0.],\n",
       "       [ 0., nan,  0.,  0.,  0., nan,  0., nan,  0.,  0.,  1.,  0.,  0.,\n",
       "        nan,  0.,  0.],\n",
       "       [ 0.,  1.,  1.,  1., nan, nan,  1.,  0.,  0.,  0.,  0.,  1.,  0.,\n",
       "         0.,  1.,  0.]])"
      ]
     },
     "execution_count": 118,
     "metadata": {},
     "output_type": "execute_result"
    }
   ],
   "source": [
    "X = np.array([\n",
    "    [0, 0, 0, 0, 0, 0, 0, 1, 0, 0, 1, 0, 0, 0, 0, 0],\n",
    "    [0, 1, 1, 1, 0, 0, 1, 0, 0, 0, 0, 1, 0, 0, 1, 0],\n",
    "    [0, 0, 0, 0, 0, 0, 0, 1, 0, 0, 1, 0, 0, 0, 0, 0],\n",
    "    [1, 0, 0, 0, 1, 1, 0, 0, 1, 1, 0, 0, 1, 1, 0, 1],\n",
    "    [0, 1, 1, 1, 0, 0, 1, 0, 0, 0, 0, 1, 0, 0, 1, 0],\n",
    "    [1, 0, 0, 0, 1, 1, 0, 0, 1, 1, 0, 0, 1, 1, 0, 1],\n",
    "    [0, 0, 0, 0, 0, 0, 0, 0, 1, 1, 0, 0, 1, 1, 0, 0],\n",
    "    [0, 0, 0, 0, 0, 0, 0, 1, 0, 0, 1, 0, 0, 0, 0, 0],\n",
    "    [0, 1, 1, 1, 0, 0, 1, 0, 0, 0, 0, 1, 0, 0, 1, 0]])\n",
    "\n",
    "X_ampute, na_rows, na_cols = ampute_mcar(X)\n",
    "X_ampute"
   ]
  },
  {
   "cell_type": "code",
   "execution_count": 115,
   "metadata": {},
   "outputs": [
    {
     "name": "stderr",
     "output_type": "stream",
     "text": [
      "/Users/money/Desktop/Projet_Innovation/colust_info_impute.py:89: FutureWarning: 'warn_on_dtype' is deprecated in version 0.21 and will be removed in 0.23. Don't set `warn_on_dtype` to remove this warning.\n",
      "  warn_on_dtype=False, estimator=None)\n",
      "/usr/local/lib/python3.7/site-packages/scipy/sparse/_index.py:126: SparseEfficiencyWarning: Changing the sparsity structure of a csr_matrix is expensive. lil_matrix is more efficient.\n",
      "  self._set_arrayXarray(i, j, x)\n"
     ]
    },
    {
     "data": {
      "text/plain": [
       "CoclustInfoImpute(init=None, max_iter=20, n_col_clusters=3, n_init=1,\n",
       "                  n_row_clusters=3, random_state=None, tol=1e-09)"
      ]
     },
     "execution_count": 115,
     "metadata": {},
     "output_type": "execute_result"
    }
   ],
   "source": [
    "dd = CoclustInfoImpute(n_row_clusters=3,n_col_clusters=3)\n",
    "dd.fit(X_ampute,impute_func=_impute_block_representative)"
   ]
  },
  {
   "cell_type": "code",
   "execution_count": 14,
   "metadata": {},
   "outputs": [
    {
     "data": {
      "text/plain": [
       "array([[0.00000000e+00, 0.00000000e+00, 0.00000000e+00, 0.00000000e+00,\n",
       "        1.84862558e-34, 0.00000000e+00, 0.00000000e+00, 2.77777778e-02,\n",
       "        0.00000000e+00, 5.20833333e-03, 2.77777778e-02, 5.20833333e-03,\n",
       "        5.20833333e-03, 0.00000000e+00, 0.00000000e+00, 0.00000000e+00],\n",
       "       [0.00000000e+00, 2.77777778e-02, 1.84862558e-34, 5.20833333e-03,\n",
       "        0.00000000e+00, 0.00000000e+00, 2.77777778e-02, 0.00000000e+00,\n",
       "        0.00000000e+00, 0.00000000e+00, 0.00000000e+00, 5.20833333e-03,\n",
       "        0.00000000e+00, 0.00000000e+00, 2.77777778e-02, 0.00000000e+00],\n",
       "       [0.00000000e+00, 0.00000000e+00, 0.00000000e+00, 0.00000000e+00,\n",
       "        0.00000000e+00, 0.00000000e+00, 0.00000000e+00, 2.77777778e-02,\n",
       "        0.00000000e+00, 0.00000000e+00, 2.77777778e-02, 0.00000000e+00,\n",
       "        0.00000000e+00, 5.20833333e-03, 0.00000000e+00, 0.00000000e+00],\n",
       "       [2.77777778e-02, 0.00000000e+00, 0.00000000e+00, 1.45502646e-02,\n",
       "        2.77777778e-02, 2.77777778e-02, 0.00000000e+00, 3.47222222e-03,\n",
       "        1.45502646e-02, 2.77777778e-02, 0.00000000e+00, 0.00000000e+00,\n",
       "        2.77777778e-02, 2.77777778e-02, 0.00000000e+00, 2.77777778e-02],\n",
       "       [1.41454969e-11, 0.00000000e+00, 1.41454969e-11, 2.77777778e-02,\n",
       "        0.00000000e+00, 1.41454969e-11, 2.77777778e-02, 0.00000000e+00,\n",
       "        0.00000000e+00, 1.38888889e-02, 0.00000000e+00, 2.77777778e-02,\n",
       "        0.00000000e+00, 0.00000000e+00, 1.38888889e-02, 0.00000000e+00],\n",
       "       [2.77777778e-02, 0.00000000e+00, 2.08333333e-02, 0.00000000e+00,\n",
       "        2.77777778e-02, 2.77777778e-02, 0.00000000e+00, 0.00000000e+00,\n",
       "        2.77777778e-02, 2.77777778e-02, 0.00000000e+00, 0.00000000e+00,\n",
       "        2.77777778e-02, 2.77777778e-02, 1.45502646e-02, 2.77777778e-02],\n",
       "       [0.00000000e+00, 1.38888889e-02, 0.00000000e+00, 0.00000000e+00,\n",
       "        1.84862558e-34, 0.00000000e+00, 0.00000000e+00, 0.00000000e+00,\n",
       "        2.77777778e-02, 2.77777778e-02, 0.00000000e+00, 0.00000000e+00,\n",
       "        2.77777778e-02, 2.77777778e-02, 5.20833333e-03, 0.00000000e+00],\n",
       "       [0.00000000e+00, 1.38888889e-02, 0.00000000e+00, 0.00000000e+00,\n",
       "        0.00000000e+00, 1.84862558e-34, 0.00000000e+00, 1.38888889e-02,\n",
       "        0.00000000e+00, 0.00000000e+00, 2.77777778e-02, 0.00000000e+00,\n",
       "        0.00000000e+00, 5.20833333e-03, 0.00000000e+00, 0.00000000e+00],\n",
       "       [0.00000000e+00, 2.77777778e-02, 2.77777778e-02, 2.77777778e-02,\n",
       "        2.08333333e-02, 2.08333333e-02, 2.77777778e-02, 0.00000000e+00,\n",
       "        0.00000000e+00, 0.00000000e+00, 0.00000000e+00, 2.77777778e-02,\n",
       "        0.00000000e+00, 0.00000000e+00, 2.77777778e-02, 0.00000000e+00]])"
      ]
     },
     "execution_count": 14,
     "metadata": {},
     "output_type": "execute_result"
    }
   ],
   "source": [
    "dd.X_.toarray()"
   ]
  },
  {
   "cell_type": "code",
   "execution_count": 15,
   "metadata": {},
   "outputs": [
    {
     "data": {
      "text/plain": [
       "<matplotlib.image.AxesImage at 0x122dc0350>"
      ]
     },
     "execution_count": 15,
     "metadata": {},
     "output_type": "execute_result"
    },
    {
     "data": {
      "image/png": "[encoded data removed]",
      "text/plain": [
       "<Figure size 432x288 with 1 Axes>"
      ]
     },
     "metadata": {
      "needs_background": "light"
     },
     "output_type": "display_data"
    }
   ],
   "source": [
    "show_matrix(X)"
   ]
  },
  {
   "cell_type": "code",
   "execution_count": 16,
   "metadata": {},
   "outputs": [
    {
     "data": {
      "text/plain": [
       "<matplotlib.image.AxesImage at 0x122f27850>"
      ]
     },
     "execution_count": 16,
     "metadata": {},
     "output_type": "execute_result"
    },
    {
     "data": {
      "image/png": "[encoded data removed]",
      "text/plain": [
       "<Figure size 432x288 with 1 Axes>"
      ]
     },
     "metadata": {
      "needs_background": "light"
     },
     "output_type": "display_data"
    }
   ],
   "source": [
    "temp = X[np.ix_([0, 2, 7, 1, 4, 8, 3, 5, 6],\n",
    "             [ 0,  4,  5, 15,  8,  9, 12, 13,  7, 10,  1,  2,  3,  6, 11, 14])]\n",
    "show_matrix(temp)"
   ]
  },
  {
   "cell_type": "code",
   "execution_count": 23,
   "metadata": {},
   "outputs": [
    {
     "data": {
      "text/plain": [
       "<matplotlib.lines.Line2D at 0x10c3d8350>"
      ]
     },
     "execution_count": 23,
     "metadata": {},
     "output_type": "execute_result"
    },
    {
     "data": {
      "image/png": "[encoded data removed]",
      "text/plain": [
       "<Figure size 432x288 with 1 Axes>"
      ]
     },
     "metadata": {
      "needs_background": "light"
     },
     "output_type": "display_data"
    }
   ],
   "source": [
    "show_matrix(dd.X_)"
   ]
  },
  {
   "cell_type": "code",
   "execution_count": 24,
   "metadata": {},
   "outputs": [
    {
     "data": {
      "text/plain": [
       "<matplotlib.lines.Line2D at 0x122d54d90>"
      ]
     },
     "execution_count": 24,
     "metadata": {},
     "output_type": "execute_result"
    },
    {
     "data": {
      "image/png": "[encoded data removed]",
      "text/plain": [
       "<Figure size 432x288 with 1 Axes>"
      ]
     },
     "metadata": {
      "needs_background": "light"
     },
     "output_type": "display_data"
    }
   ],
   "source": [
    "show_matrix(dd.X_[np.ix_(np.argsort(dd.row_labels_),np.argsort(dd.column_labels_))])"
   ]
  },
  {
   "cell_type": "code",
   "execution_count": 17,
   "metadata": {},
   "outputs": [
    {
     "data": {
      "text/plain": [
       "<matplotlib.image.AxesImage at 0x122da8050>"
      ]
     },
     "execution_count": 17,
     "metadata": {},
     "output_type": "execute_result"
    },
    {
     "data": {
      "image/png": "[encoded data removed]",
      "text/plain": [
       "<Figure size 432x288 with 1 Axes>"
      ]
     },
     "metadata": {
      "needs_background": "light"
     },
     "output_type": "display_data"
    }
   ],
   "source": [
    "temp1 = X[np.ix_(np.argsort(dd.row_labels_),np.argsort(dd.column_labels_))]\n",
    "show_matrix(temp1)"
   ]
  },
  {
   "cell_type": "code",
   "execution_count": 22,
   "metadata": {},
   "outputs": [
    {
     "data": {
      "text/plain": [
       "[2, 2, 2, 1, 0, 1, 2, 2, 1]"
      ]
     },
     "execution_count": 22,
     "metadata": {},
     "output_type": "execute_result"
    }
   ],
   "source": [
    "dd.row_labels_"
   ]
  },
  {
   "cell_type": "code",
   "execution_count": 20,
   "metadata": {},
   "outputs": [
    {
     "data": {
      "text/plain": [
       "array([4, 3, 5, 8, 0, 1, 2, 6, 7])"
      ]
     },
     "execution_count": 20,
     "metadata": {},
     "output_type": "execute_result"
    }
   ],
   "source": [
    "np.argsort(dd.row_labels_)"
   ]
  },
  {
   "cell_type": "code",
   "execution_count": 21,
   "metadata": {},
   "outputs": [
    {
     "data": {
      "text/plain": [
       "array([ 1,  7, 10,  0,  2,  4,  5, 15,  3,  6,  8,  9, 11, 12, 13, 14])"
      ]
     },
     "execution_count": 21,
     "metadata": {},
     "output_type": "execute_result"
    }
   ],
   "source": [
    "np.argsort(dd.column_labels_)"
   ]
  },
  {
   "cell_type": "code",
   "execution_count": 30,
   "metadata": {},
   "outputs": [
    {
     "data": {
      "text/plain": [
       "0.5978650686516749"
      ]
     },
     "execution_count": 30,
     "metadata": {},
     "output_type": "execute_result"
    }
   ],
   "source": [
    "NMI([0, 2, 7, 1, 4, 8, 3, 5, 6], dd.row_labels_)"
   ]
  },
  {
   "cell_type": "code",
   "execution_count": 31,
   "metadata": {},
   "outputs": [
    {
     "data": {
      "text/plain": [
       "0.5394042270255305"
      ]
     },
     "execution_count": 31,
     "metadata": {},
     "output_type": "execute_result"
    }
   ],
   "source": [
    "NMI([ 0,  4,  5, 15,  8,  9, 12, 13,  7, 10,  1,  2,  3,  6, 11, 14], dd.column_labels_)"
   ]
  },
  {
   "cell_type": "code",
   "execution_count": 41,
   "metadata": {},
   "outputs": [],
   "source": [
    "temp = sio.loadmat('../cluto/cstr.mat')\n",
    "cstr = temp[\"fea\"]\n",
    "cstr_class = temp['gnd'].reshape(1,-1)[0]"
   ]
  },
  {
   "cell_type": "code",
   "execution_count": 44,
   "metadata": {},
   "outputs": [
    {
     "data": {
      "text/plain": [
       "<matplotlib.image.AxesImage at 0x1245aa1d0>"
      ]
     },
     "execution_count": 44,
     "metadata": {},
     "output_type": "execute_result"
    },
    {
     "data": {
      "image/png": "[encoded data removed]",
      "text/plain": [
       "<Figure size 432x288 with 1 Axes>"
      ]
     },
     "metadata": {
      "needs_background": "light"
     },
     "output_type": "display_data"
    }
   ],
   "source": [
    "show_matrix(cstr)"
   ]
  },
  {
   "cell_type": "code",
   "execution_count": 48,
   "metadata": {},
   "outputs": [],
   "source": [
    "X,na_rows, na_cols = ampute_mcar(cstr,prop=0.5)"
   ]
  },
  {
   "cell_type": "code",
   "execution_count": 52,
   "metadata": {},
   "outputs": [
    {
     "name": "stderr",
     "output_type": "stream",
     "text": [
      "/Users/money/Desktop/Projet_Innovation/colust_info_impute.py:89: FutureWarning: 'warn_on_dtype' is deprecated in version 0.21 and will be removed in 0.23. Don't set `warn_on_dtype` to remove this warning.\n",
      "  warn_on_dtype=False, estimator=None)\n",
      "/usr/local/lib/python3.7/site-packages/scipy/sparse/_index.py:126: SparseEfficiencyWarning: Changing the sparsity structure of a csr_matrix is expensive. lil_matrix is more efficient.\n",
      "  self._set_arrayXarray(i, j, x)\n"
     ]
    },
    {
     "data": {
      "text/plain": [
       "CoclustInfoImpute(init=None, max_iter=20, n_col_clusters=4, n_init=1,\n",
       "                  n_row_clusters=4, random_state=None, tol=1e-09)"
      ]
     },
     "execution_count": 52,
     "metadata": {},
     "output_type": "execute_result"
    }
   ],
   "source": [
    "cstr_model = CoclustInfoImpute(n_row_clusters=4,n_col_clusters=4)\n",
    "cstr_model.fit(X,impute_func=_impute_block_representative,na_rows=na_rows,na_cols=na_cols)"
   ]
  },
  {
   "cell_type": "code",
   "execution_count": 54,
   "metadata": {},
   "outputs": [
    {
     "name": "stderr",
     "output_type": "stream",
     "text": [
      "/usr/local/lib/python3.7/site-packages/matplotlib/axes/_axes.py:7717: RuntimeWarning: invalid value encountered in greater\n",
      "  mask = np.abs(Z) > precision\n"
     ]
    },
    {
     "data": {
      "text/plain": [
       "<matplotlib.image.AxesImage at 0x127352310>"
      ]
     },
     "execution_count": 54,
     "metadata": {},
     "output_type": "execute_result"
    },
    {
     "data": {
      "image/png": "[encoded data removed]",
      "text/plain": [
       "<Figure size 432x288 with 1 Axes>"
      ]
     },
     "metadata": {
      "needs_background": "light"
     },
     "output_type": "display_data"
    }
   ],
   "source": [
    "show_matrix(X[np.ix_(np.argsort(cstr_model.row_labels_),np.argsort(cstr_model.column_labels_))])"
   ]
  },
  {
   "cell_type": "code",
   "execution_count": 55,
   "metadata": {},
   "outputs": [
    {
     "data": {
      "text/plain": [
       "0.0337560986777109"
      ]
     },
     "execution_count": 55,
     "metadata": {},
     "output_type": "execute_result"
    }
   ],
   "source": [
    "NMI(cstr_class, cstr_model.row_labels_)"
   ]
  },
  {
   "cell_type": "code",
   "execution_count": 56,
   "metadata": {},
   "outputs": [],
   "source": [
    "X,na_rows, na_cols = ampute_mcar(cstr,prop=0.2)"
   ]
  },
  {
   "cell_type": "code",
   "execution_count": 57,
   "metadata": {},
   "outputs": [
    {
     "name": "stderr",
     "output_type": "stream",
     "text": [
      "/Users/money/Desktop/Projet_Innovation/colust_info_impute.py:89: FutureWarning: 'warn_on_dtype' is deprecated in version 0.21 and will be removed in 0.23. Don't set `warn_on_dtype` to remove this warning.\n",
      "  warn_on_dtype=False, estimator=None)\n",
      "/usr/local/lib/python3.7/site-packages/scipy/sparse/_index.py:126: SparseEfficiencyWarning: Changing the sparsity structure of a csr_matrix is expensive. lil_matrix is more efficient.\n",
      "  self._set_arrayXarray(i, j, x)\n"
     ]
    },
    {
     "data": {
      "text/plain": [
       "CoclustInfoImpute(init=None, max_iter=20, n_col_clusters=4, n_init=1,\n",
       "                  n_row_clusters=4, random_state=None, tol=1e-09)"
      ]
     },
     "execution_count": 57,
     "metadata": {},
     "output_type": "execute_result"
    }
   ],
   "source": [
    "cstr_model = CoclustInfoImpute(n_row_clusters=4,n_col_clusters=4)\n",
    "cstr_model.fit(X,impute_func=_impute_block_representative,na_rows=na_rows,na_cols=na_cols)"
   ]
  },
  {
   "cell_type": "code",
   "execution_count": 58,
   "metadata": {},
   "outputs": [
    {
     "data": {
      "text/plain": [
       "0.09020819555500945"
      ]
     },
     "execution_count": 58,
     "metadata": {},
     "output_type": "execute_result"
    }
   ],
   "source": [
    "NMI(cstr_class, cstr_model.row_labels_)"
   ]
  },
  {
   "cell_type": "code",
   "execution_count": 59,
   "metadata": {},
   "outputs": [],
   "source": [
    "X,na_rows, na_cols = ampute_mcar(cstr,prop=0.05)"
   ]
  },
  {
   "cell_type": "code",
   "execution_count": 60,
   "metadata": {},
   "outputs": [
    {
     "name": "stderr",
     "output_type": "stream",
     "text": [
      "/Users/money/Desktop/Projet_Innovation/colust_info_impute.py:89: FutureWarning: 'warn_on_dtype' is deprecated in version 0.21 and will be removed in 0.23. Don't set `warn_on_dtype` to remove this warning.\n",
      "  warn_on_dtype=False, estimator=None)\n",
      "/usr/local/lib/python3.7/site-packages/scipy/sparse/_index.py:126: SparseEfficiencyWarning: Changing the sparsity structure of a csr_matrix is expensive. lil_matrix is more efficient.\n",
      "  self._set_arrayXarray(i, j, x)\n"
     ]
    },
    {
     "data": {
      "text/plain": [
       "CoclustInfoImpute(init=None, max_iter=20, n_col_clusters=4, n_init=1,\n",
       "                  n_row_clusters=4, random_state=None, tol=1e-09)"
      ]
     },
     "execution_count": 60,
     "metadata": {},
     "output_type": "execute_result"
    }
   ],
   "source": [
    "cstr_model = CoclustInfoImpute(n_row_clusters=4,n_col_clusters=4)\n",
    "cstr_model.fit(X,impute_func=_impute_block_representative,na_rows=na_rows,na_cols=na_cols)"
   ]
  },
  {
   "cell_type": "code",
   "execution_count": 61,
   "metadata": {},
   "outputs": [
    {
     "data": {
      "text/plain": [
       "0.49835457740008404"
      ]
     },
     "execution_count": 61,
     "metadata": {},
     "output_type": "execute_result"
    }
   ],
   "source": [
    "NMI(cstr_class, cstr_model.row_labels_)"
   ]
  },
  {
   "cell_type": "markdown",
   "metadata": {},
   "source": [
    "### Load required data"
   ]
  },
  {
   "cell_type": "code",
   "execution_count": 2,
   "metadata": {},
   "outputs": [],
   "source": [
    "temp = sio.loadmat('./data/complete_data/cstr.mat')\n",
    "cstr_lab = temp['gnd'].reshape(1,-1)[0]\n",
    "cstr_data = temp['fea']"
   ]
  },
  {
   "cell_type": "code",
   "execution_count": 38,
   "metadata": {},
   "outputs": [],
   "source": [
    "temp = sio.loadmat('./data/complete_data/webAce.mat')\n",
    "webace_lab = temp['gnd'].reshape(1,-1)[0]\n",
    "webace_data = temp['fea']"
   ]
  },
  {
   "cell_type": "code",
   "execution_count": 46,
   "metadata": {},
   "outputs": [],
   "source": [
    "temp = sio.loadmat('./data/complete_data/reviews.mat')\n",
    "reviews_lab = temp['classid'].reshape(1,-1)[0]\n",
    "reviews_data = temp['dtm'].toarray()"
   ]
  },
  {
   "cell_type": "code",
   "execution_count": 3,
   "metadata": {},
   "outputs": [],
   "source": [
    "temp = sio.loadmat('./data/complete_data/classic3.mat')\n",
    "classic3_lab = temp['labels'].reshape(1,-1)[0]\n",
    "classic3_data = temp['A'].toarray()"
   ]
  },
  {
   "cell_type": "code",
   "execution_count": 4,
   "metadata": {},
   "outputs": [],
   "source": [
    "temp = sio.loadmat('./data/complete_data/classic4.mat')\n",
    "classic4_lab = temp['labels'][0]\n",
    "classic4_data = temp['mat'].toarray()"
   ]
  },
  {
   "cell_type": "code",
   "execution_count": 60,
   "metadata": {},
   "outputs": [],
   "source": [
    "def set_nan(data, r_nan, c_nan):\n",
    "    X = data.copy()\n",
    "    X = X.astype(float)\n",
    "    X[r_nan, c_nan] = np.nan\n",
    "    return X\n",
    "\n",
    "def load_index(name, prob):\n",
    "    index = joblib.load(f'./mar_missing_data/nan_idx-{name}-mar-{prob}.joblib')\n",
    "    return index['r_nan'], index['c_nan']\n",
    "    \n",
    "\n",
    "def execute_coclust_info_impute(datasets,probs=[0.1, 0.2, 0.5,0.7],impute_fn=None):\n",
    "    \n",
    "    for prob in probs:\n",
    "        for key,value in datasets.items():\n",
    "            r_nan, c_nan = load_index(key,prob)\n",
    "            temp_data = set_nan(value[0], r_nan, c_nan)\n",
    "            n_clusters = len(np.unique(value[1]))\n",
    "            model = CoclustInfoImpute(n_row_clusters=n_clusters,n_col_clusters=n_clusters)\n",
    "            model.fit(temp_data,impute_func=impute_fn,na_rows=r_nan,na_cols=c_nan)\n",
    "            nmi = NMI(value[1], model.row_labels_)\n",
    "            joblib.dump({'model': model, 'nmi': nmi}, f'./output/impute_coclust_info_result_{key}_{prob}.joblib')\n",
    "    return \n",
    "\n",
    "def replace_imputed_ca(data,name,prob):\n",
    "    X = data.copy()\n",
    "    temp = joblib.load(f'./data/impute_data/{name}_{prob}%_mcar.joblib')\n",
    "    imputed = temp['imputed']\n",
    "    r_nan = temp['r_nan']\n",
    "    c_nan = temp['c_nan']\n",
    "    X[r_nan,c_nan] = imputed\n",
    "    return X\n",
    "    \n",
    "\n",
    "def excecute_coclust_info_impute_ca(datasets,probs=[0.1, 0.2, 0.5,0.7]):\n",
    "    \n",
    "    for prob in probs:\n",
    "        for key, value in datasets.items():\n",
    "            temp_data = replace_imputed_ca(value[0], key, int(100 * prob))\n",
    "            n_clusters = len(np.unique(value[1]))\n",
    "            model = CoclustInfo(n_row_clusters=n_clusters,n_col_clusters=n_clusters)\n",
    "            model.fit(temp_data)\n",
    "            nmi = NMI(value[1], model.row_labels_)\n",
    "            joblib.dump({'model': model, 'nmi': nmi}, f'./output/impute_ca_cocluct_info_result_{key}_{prob}.joblib')\n",
    "    return"
   ]
  },
  {
   "cell_type": "code",
   "execution_count": 61,
   "metadata": {},
   "outputs": [],
   "source": [
    "datasets = {'cstr': [cstr_data, cstr_lab],'webace': [webace_data, webace_lab], 'reviews': [reviews_data, reviews_lab],\n",
    "           'classic3': [classic3_data, classic3_lab], 'classic4': [classic4_data, classic4_lab]}\n",
    "execute_coclust_info_impute(datasets, impute_fn=_impute_block_representative)"
   ]
  },
  {
   "cell_type": "code",
   "execution_count": null,
   "metadata": {},
   "outputs": [],
   "source": [
    "excecute_coclust_info_impute_ca(datasets)"
   ]
  },
  {
   "cell_type": "code",
   "execution_count": 43,
   "metadata": {},
   "outputs": [
    {
     "data": {
      "text/plain": [
       "(4069, 18483)"
      ]
     },
     "execution_count": 43,
     "metadata": {},
     "output_type": "execute_result"
    }
   ],
   "source": [
    "temp['dtm'].shape"
   ]
  },
  {
   "cell_type": "code",
   "execution_count": 16,
   "metadata": {},
   "outputs": [
    {
     "data": {
      "text/plain": [
       "array([[1., 1., 1., ..., 0., 0., 0.],\n",
       "       [0., 0., 0., ..., 0., 0., 0.],\n",
       "       [0., 0., 0., ..., 0., 0., 0.],\n",
       "       ...,\n",
       "       [0., 0., 0., ..., 0., 0., 0.],\n",
       "       [0., 0., 0., ..., 0., 0., 0.],\n",
       "       [0., 0., 0., ..., 0., 0., 0.]])"
      ]
     },
     "execution_count": 16,
     "metadata": {},
     "output_type": "execute_result"
    }
   ],
   "source": [
    "temp['mat'].toarray()"
   ]
  },
  {
   "cell_type": "code",
   "execution_count": 19,
   "metadata": {},
   "outputs": [
    {
     "data": {
      "text/plain": [
       "0"
      ]
     },
     "execution_count": 19,
     "metadata": {},
     "output_type": "execute_result"
    }
   ],
   "source": [
    "np.sum(np.isnan(temp['mat'].toarray()))"
   ]
  },
  {
   "cell_type": "code",
   "execution_count": 22,
   "metadata": {},
   "outputs": [],
   "source": [
    "temp = joblib.load('./data/impute_data/cstr_10%_mcar.joblib')"
   ]
  },
  {
   "cell_type": "code",
   "execution_count": 23,
   "metadata": {},
   "outputs": [
    {
     "data": {
      "text/plain": [
       "{'imputed': array([0.88060116, 0.07709015, 5.45043553, ..., 0.2426331 , 1.52377471,\n",
       "        0.11756154]),\n",
       " 'real': array([0., 0., 0., ..., 0., 0., 0.]),\n",
       " 'r_nan': array([ 18, 461, 334, ..., 421, 370, 272]),\n",
       " 'c_nan': array([298, 739, 277, ..., 462, 972, 854])}"
      ]
     },
     "execution_count": 23,
     "metadata": {},
     "output_type": "execute_result"
    }
   ],
   "source": [
    "temp"
   ]
  },
  {
   "cell_type": "code",
   "execution_count": 24,
   "metadata": {},
   "outputs": [
    {
     "data": {
      "text/plain": [
       "array([0.88060116, 0.07709015, 5.45043553, ..., 0.2426331 , 1.52377471,\n",
       "       0.11756154])"
      ]
     },
     "execution_count": 24,
     "metadata": {},
     "output_type": "execute_result"
    }
   ],
   "source": [
    "temp['imputed']"
   ]
  },
  {
   "cell_type": "code",
   "execution_count": 25,
   "metadata": {},
   "outputs": [
    {
     "data": {
      "text/plain": [
       "47500"
      ]
     },
     "execution_count": 25,
     "metadata": {},
     "output_type": "execute_result"
    }
   ],
   "source": [
    "len(temp['imputed'])"
   ]
  },
  {
   "cell_type": "code",
   "execution_count": 30,
   "metadata": {},
   "outputs": [],
   "source": [
    "dd = np.array([[1,2,3],[2,3,4],[4,5,6]])"
   ]
  },
  {
   "cell_type": "code",
   "execution_count": 31,
   "metadata": {},
   "outputs": [
    {
     "data": {
      "text/plain": [
       "array([[1, 2, 3],\n",
       "       [2, 3, 4],\n",
       "       [4, 5, 6]])"
      ]
     },
     "execution_count": 31,
     "metadata": {},
     "output_type": "execute_result"
    }
   ],
   "source": [
    "dd"
   ]
  },
  {
   "cell_type": "code",
   "execution_count": 32,
   "metadata": {},
   "outputs": [],
   "source": [
    "dd[[0,2],[1,2]] = [4,10]"
   ]
  },
  {
   "cell_type": "code",
   "execution_count": 33,
   "metadata": {},
   "outputs": [
    {
     "data": {
      "text/plain": [
       "array([[ 1,  4,  3],\n",
       "       [ 2,  3,  4],\n",
       "       [ 4,  5, 10]])"
      ]
     },
     "execution_count": 33,
     "metadata": {},
     "output_type": "execute_result"
    }
   ],
   "source": [
    "dd"
   ]
  },
  {
   "cell_type": "code",
   "execution_count": null,
   "metadata": {},
   "outputs": [],
   "source": []
  }
 ],
 "metadata": {
  "kernelspec": {
   "display_name": "Python 3",
   "language": "python",
   "name": "python3"
  },
  "language_info": {
   "codemirror_mode": {
    "name": "ipython",
    "version": 3
   },
   "file_extension": ".py",
   "mimetype": "text/x-python",
   "name": "python",
   "nbconvert_exporter": "python",
   "pygments_lexer": "ipython3",
   "version": "3.7.5"
  }
 },
 "nbformat": 4,
 "nbformat_minor": 4
}
