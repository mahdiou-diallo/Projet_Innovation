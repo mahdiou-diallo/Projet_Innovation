{
 "cells": [
  {
   "cell_type": "code",
   "execution_count": 1,
   "metadata": {},
   "outputs": [],
   "source": [
    "import numpy as np\n",
    "import pandas as pd\n",
    "import scipy.io as sio\n",
    "import joblib\n",
    "from coclust.coclustering import CoclustInfo, CoclustMod\n",
    "from ampute import ampute_mar, ampute_mcar\n",
    "from utils import (show_matrix, _impute_block_representative, RMSE)\n",
    "from colust_info_impute import CoclustInfoImpute\n",
    "\n",
    "from sklearn.metrics.cluster import normalized_mutual_info_score as NMI\n",
    "\n",
    "import warnings\n",
    "warnings.filterwarnings(\"ignore\")"
   ]
  },
  {
   "cell_type": "markdown",
   "metadata": {},
   "source": [
    "# CoclustInfoImpute\n",
    "La classe `CoclustInfoImpute` est une extension de `CoclustInfo` du package `Coclust` permetant d'exécuter `CoclustInfo` sur des jeux de données avec des valeurs maquantes. Elle s'utilise comme `CoclustInfo` avec des paramètres optionals dans sa methode `fit` qui sont les suivantes.\n",
    "\n",
    "- `impute_func` la function d'imputation pour mettre à jour les valeurs manquantes lorque Z(classe en ligne) ou W(classe en colonne) changent. La function passée en paramètre doit avoir comme paramètre de position:\n",
    "    1. `X` la matrice originale\n",
    "    2. `Z` la matrice binaire des classes en ligne\n",
    "    3. `W` la matrice binaire des classe en colonne\n",
    "    4. `z` classe en ligne\n",
    "    5. `w` classe en colonne\n",
    "    6. `r_nan` indices des valeurs manquantes en ligne\n",
    "    7. `c_nan` indices des valeurs manquantes en colonne\n",
    "- `na_rows` et `na_cols` par default à `None` permet de passer l'indice en ligne et en colonne des valeurs maquantes.\n",
    "\n",
    "Si la matrice contient des valeurs manquantes l'algorithm les remplacera par zero et affectera leur indices a `na_rows` et `na_cols`"
   ]
  },
  {
   "cell_type": "markdown",
   "metadata": {},
   "source": [
    "### Load required data"
   ]
  },
  {
   "cell_type": "code",
   "execution_count": 2,
   "metadata": {},
   "outputs": [],
   "source": [
    "# load cstr dataset \n",
    "temp = sio.loadmat('./data/complete_data/cstr.mat')\n",
    "cstr_lab = temp['gnd'].reshape(1,-1)[0]\n",
    "cstr_data = temp['fea']"
   ]
  },
  {
   "cell_type": "code",
   "execution_count": 3,
   "metadata": {},
   "outputs": [],
   "source": [
    "# load cstr dataset \n",
    "temp = sio.loadmat('./data/complete_data/webAce.mat')\n",
    "webace_lab = temp['gnd'].reshape(1,-1)[0]\n",
    "webace_data = temp['fea']"
   ]
  },
  {
   "cell_type": "code",
   "execution_count": 5,
   "metadata": {},
   "outputs": [],
   "source": [
    "# load cstr dataset \n",
    "temp = sio.loadmat('./data/complete_data/classic3.mat')\n",
    "classic3_lab = temp['labels'].reshape(1,-1)[0]\n",
    "classic3_data = temp['A'].toarray()"
   ]
  },
  {
   "cell_type": "code",
   "execution_count": 6,
   "metadata": {},
   "outputs": [],
   "source": [
    "# load cstr dataset \n",
    "temp = sio.loadmat('./data/complete_data/classic4.mat')\n",
    "classic4_lab = temp['labels'][0]\n",
    "classic4_data = temp['mat'].toarray()"
   ]
  },
  {
   "cell_type": "code",
   "execution_count": 22,
   "metadata": {},
   "outputs": [],
   "source": [
    "def set_nan(data, r_nan, c_nan):\n",
    "    \"\"\" Replace cells value by numpy nan.\n",
    "    \"\"\"\n",
    "    \n",
    "    X = data.copy()\n",
    "    X = X.astype(float)\n",
    "    X[r_nan, c_nan] = np.nan\n",
    "    return X\n",
    "\n",
    "def load_index(name, prob, method='mar'):\n",
    "    \"\"\" load nan cells row and col index.\n",
    "    \"\"\"\n",
    "    \n",
    "    index = joblib.load(f'./mar_missing_data/nan_idx-{name}-{method}-{prob}.joblib')\n",
    "    return index['r_nan'], index['c_nan']\n",
    "    \n",
    "\n",
    "def execute_coclust_info_impute(datasets,method='mar',probs=[0.1, 0.2, 0.5,0.7],impute_fn=None):\n",
    "    \"\"\" execute CoclustInfoImpute.\n",
    "        zero is used to replace missing data at initialisation step.\n",
    "        impute_fn is used to calculate missing data value at block level after changing Z or W.\n",
    "    \"\"\"\n",
    "    for prob in probs:\n",
    "        for key,value in datasets.items():\n",
    "            X = value[0]\n",
    "            lab = value[1]\n",
    "            if method == 'mcar':\n",
    "                X_nan, r_nan, c_nan = ampute_mcar(X,prop=prob)\n",
    "            else:\n",
    "                r_nan, c_nan = load_index(key,prob,method=method)\n",
    "                X_nan = set_nan(X, r_nan, c_nan)\n",
    "            n_clusters = len(np.unique(lab))\n",
    "            model = CoclustInfoImpute(n_row_clusters=n_clusters,n_col_clusters=n_clusters,n_init=10)\n",
    "            model.fit(X_nan,impute_func=impute_fn,na_rows=r_nan,na_cols=c_nan)\n",
    "            \n",
    "            joblib.dump({\n",
    "                'imputed': model.X_[r_nan, c_nan],\n",
    "                'real': X[r_nan, c_nan],\n",
    "                'r_nan': r_nan,\n",
    "                'c_nan': c_nan,\n",
    "                'z': model.row_labels_,\n",
    "                'w': model.column_labels_,\n",
    "            }, f'./output/{key}-{method}-{prob}-zero.joblib', compress=3)\n",
    "            \n",
    "    return \n",
    "\n",
    "def replace_imputed_ca(data,name,prob,method='mar'):\n",
    "    \"\"\" Replace real value of missing data cell of a given data by \n",
    "        imputeCA prediction.\n",
    "    \"\"\"\n",
    "    X = data.copy()\n",
    "    if method == 'mar':\n",
    "        temp = joblib.load(f'./data/impute_data/{method}/{name}_{prob}__{method}.joblib')        \n",
    "    else:\n",
    "        temp = joblib.load(f'./data/impute_data/{method}/{name}_{prob}__{method}.joblib')  \n",
    "    imputed = temp['imputed']\n",
    "    r_nan = temp['r_nan']\n",
    "    c_nan = temp['c_nan']\n",
    "    X[r_nan,c_nan] = imputed\n",
    "    return X, r_nan, c_nan\n",
    "    \n",
    "\n",
    "def execute_coclust_info_impute_ca(datasets,method='mar',probs=[0.1, 0.2, 0.5,0.7]):\n",
    "    \"\"\" execute CoclustInfo on ImputeCA result\n",
    "    \"\"\"\n",
    "    for prob in probs:\n",
    "        for key, value in datasets.items():\n",
    "            X = value[0]\n",
    "            lab = value[1]\n",
    "            X_nan, r_nan, c_nan = replace_imputed_ca(X, key, int(100 * prob), method=method)\n",
    "            n_clusters = len(np.unique(lab))\n",
    "            model = CoclustInfo(n_row_clusters=n_clusters,n_col_clusters=n_clusters,n_init=10)\n",
    "            model.fit(X_nan)\n",
    "            \n",
    "            joblib.dump({\n",
    "                'imputed': None,\n",
    "                'real': X[r_nan, c_nan],\n",
    "                'r_nan': r_nan,\n",
    "                'c_nan': c_nan,\n",
    "                'z': model.row_labels_,\n",
    "                'w': model.column_labels_,\n",
    "            }, f'./output/{key}-{method}-{prob}-NORMALCA.joblib', compress=3)\n",
    "            \n",
    "    return\n",
    "\n",
    "\n",
    "def execute_coclust_info_impute_impute_ca(datasets,impute_fn=None, method='mar',probs=[0.1, 0.2, 0.5,0.7]):\n",
    "    \"\"\" execute CoclustInfoImpute on ImputeCA result\n",
    "    \"\"\"\n",
    "    for prob in probs:\n",
    "        for key, value in datasets.items():\n",
    "            X = value[0]\n",
    "            lab = value[1]\n",
    "            X_nan, r_nan, c_nan = replace_imputed_ca(X, key, int(100 * prob), method=method)\n",
    "            n_clusters = len(np.unique(lab))\n",
    "            model = CoclustInfoImpute(n_row_clusters=n_clusters,n_col_clusters=n_clusters,n_init=5)\n",
    "            model.fit(X_nan,impute_func=impute_fn,na_rows=r_nan,na_cols=c_nan)\n",
    "            \n",
    "            joblib.dump({\n",
    "                'imputed': model.X_[r_nan, c_nan],\n",
    "                'real': X[r_nan, c_nan],\n",
    "                'r_nan': r_nan,\n",
    "                'c_nan': c_nan,\n",
    "                'z': model.row_labels_,\n",
    "                'w': model.column_labels_,\n",
    "            }, f'./output/{key}-{method}-{prob}-NEWCA.joblib', compress=3)\n",
    "            \n",
    "    return"
   ]
  },
  {
   "cell_type": "markdown",
   "metadata": {},
   "source": [
    "## Coclust Info Impute With zero as initial missing value"
   ]
  },
  {
   "cell_type": "code",
   "execution_count": 8,
   "metadata": {},
   "outputs": [],
   "source": [
    "# create datasets\n",
    "datasets = {'cstr': [cstr_data, cstr_lab],'webace': [webace_data, webace_lab],\n",
    "           'classic3': [classic3_data, classic3_lab], 'classic4': [classic4_data, classic4_lab]}"
   ]
  },
  {
   "cell_type": "markdown",
   "metadata": {},
   "source": [
    "#### Execution on mar method"
   ]
  },
  {
   "cell_type": "code",
   "execution_count": 9,
   "metadata": {},
   "outputs": [],
   "source": [
    "execute_coclust_info_impute(datasets,impute_fn=_impute_block_representative)"
   ]
  },
  {
   "cell_type": "markdown",
   "metadata": {},
   "source": [
    "#### Execution on mcar method"
   ]
  },
  {
   "cell_type": "code",
   "execution_count": 10,
   "metadata": {},
   "outputs": [],
   "source": [
    "execute_coclust_info_impute(datasets,method='mcar',impute_fn=_impute_block_representative)"
   ]
  },
  {
   "cell_type": "markdown",
   "metadata": {},
   "source": [
    "## Coclust Info with ImputeCA"
   ]
  },
  {
   "cell_type": "markdown",
   "metadata": {},
   "source": [
    "#### Execution on mar method"
   ]
  },
  {
   "cell_type": "code",
   "execution_count": 13,
   "metadata": {},
   "outputs": [],
   "source": [
    "execute_coclust_info_impute_ca(datasets)"
   ]
  },
  {
   "cell_type": "markdown",
   "metadata": {},
   "source": [
    "#### Execution on mcar method"
   ]
  },
  {
   "cell_type": "code",
   "execution_count": 15,
   "metadata": {},
   "outputs": [],
   "source": [
    "execute_coclust_info_impute_ca(datasets, method='mcar')"
   ]
  },
  {
   "cell_type": "markdown",
   "metadata": {},
   "source": [
    "## Coclust Info Impute with ImputeCA"
   ]
  },
  {
   "cell_type": "markdown",
   "metadata": {},
   "source": [
    "### Execution on mar method"
   ]
  },
  {
   "cell_type": "code",
   "execution_count": 20,
   "metadata": {},
   "outputs": [],
   "source": [
    "execute_coclust_info_impute_impute_ca(datasets,impute_fn=_impute_block_representative)"
   ]
  },
  {
   "cell_type": "markdown",
   "metadata": {},
   "source": [
    "#### Execution on mcar method"
   ]
  },
  {
   "cell_type": "code",
   "execution_count": 21,
   "metadata": {},
   "outputs": [],
   "source": [
    "execute_coclust_info_impute_impute_ca(datasets,method='mcar',impute_fn=_impute_block_representative)"
   ]
  },
  {
   "cell_type": "markdown",
   "metadata": {},
   "source": [
    "## CoclustInfoImpute with ImputeCA and New Imputation Function"
   ]
  },
  {
   "cell_type": "code",
   "execution_count": null,
   "metadata": {},
   "outputs": [],
   "source": [
    "# reduction dataset due to time.\n",
    "datasets = {'cstr': [cstr_data, cstr_lab],'webace': [webace_data, webace_lab]}"
   ]
  },
  {
   "cell_type": "markdown",
   "metadata": {},
   "source": [
    "### Execution on mar method"
   ]
  },
  {
   "cell_type": "code",
   "execution_count": null,
   "metadata": {},
   "outputs": [],
   "source": [
    "execute_coclust_info_impute_impute_ca(datasets,impute_fn=)"
   ]
  },
  {
   "cell_type": "markdown",
   "metadata": {},
   "source": [
    "### Execution on mcar method"
   ]
  },
  {
   "cell_type": "code",
   "execution_count": null,
   "metadata": {},
   "outputs": [],
   "source": [
    "execute_coclust_info_impute_impute_ca(datasets,method='mcar',impute_fn=)"
   ]
  }
 ],
 "metadata": {
  "kernelspec": {
   "display_name": "Python 3",
   "language": "python",
   "name": "python3"
  },
  "language_info": {
   "codemirror_mode": {
    "name": "ipython",
    "version": 3
   },
   "file_extension": ".py",
   "mimetype": "text/x-python",
   "name": "python",
   "nbconvert_exporter": "python",
   "pygments_lexer": "ipython3",
   "version": "3.7.5"
  }
 },
 "nbformat": 4,
 "nbformat_minor": 4
}
