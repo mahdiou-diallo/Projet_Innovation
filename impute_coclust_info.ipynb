{
 "cells": [
  {
   "cell_type": "code",
   "execution_count": 1,
   "metadata": {},
   "outputs": [],
   "source": [
    "%reload_ext autoreload\n",
    "%autoreload 2\n",
    "import numpy as np\n",
    "import pandas as pd\n",
    "import scipy.io as sio\n",
    "import joblib\n",
    "from coclust.coclustering import CoclustInfo, CoclustMod\n",
    "from ampute import ampute_mar, ampute_mcar\n",
    "from utils import (show_matrix, _impute_block_representative, RMSE)\n",
    "from coclust_info_impute import CoclustInfoImpute, _impute_block_ca\n",
    "\n",
    "from sklearn.metrics.cluster import normalized_mutual_info_score as NMI\n",
    "\n",
    "import warnings\n",
    "warnings.filterwarnings(\"ignore\")"
   ]
  },
  {
   "cell_type": "markdown",
   "metadata": {},
   "source": [
    "# CoclustInfoImpute\n",
    "La classe `CoclustInfoImpute` est une extension de `CoclustInfo` du package `Coclust` permetant d'exécuter `CoclustInfo` sur des jeux de données avec des valeurs maquantes. Elle s'utilise comme `CoclustInfo` avec des paramètres optionals dans sa methode `fit` qui sont les suivantes.\n",
    "\n",
    "- `impute_func` la function d'imputation pour mettre à jour les valeurs manquantes lorque Z(classe en ligne) ou W(classe en colonne) changent. La function passée en paramètre doit avoir comme paramètre de position:\n",
    "    1. `X` la matrice originale\n",
    "    2. `Z` la matrice binaire des classes en ligne\n",
    "    3. `W` la matrice binaire des classe en colonne\n",
    "    4. `z` classe en ligne\n",
    "    5. `w` classe en colonne\n",
    "    6. `r_nan` indices des valeurs manquantes en ligne\n",
    "    7. `c_nan` indices des valeurs manquantes en colonne\n",
    "- `na_rows` et `na_cols` par default à `None` permet de passer l'indice en ligne et en colonne des valeurs maquantes.\n",
    "\n",
    "Si la matrice contient des valeurs manquantes l'algorithm les remplacera par zero et affectera leur indices a `na_rows` et `na_cols`"
   ]
  },
  {
   "cell_type": "markdown",
   "metadata": {},
   "source": [
    "### Load required data"
   ]
  },
  {
   "cell_type": "code",
   "execution_count": 2,
   "metadata": {},
   "outputs": [],
   "source": [
    "# load cstr dataset \n",
    "temp = sio.loadmat('./data/complete_data/cstr.mat')\n",
    "cstr_lab = temp['gnd'].reshape(1,-1)[0]\n",
    "cstr_data = temp['fea']"
   ]
  },
  {
   "cell_type": "code",
   "execution_count": 3,
   "metadata": {},
   "outputs": [],
   "source": [
    "# load cstr dataset \n",
    "temp = sio.loadmat('./data/complete_data/webAce.mat')\n",
    "webace_lab = temp['gnd'].reshape(1,-1)[0]\n",
    "webace_data = temp['fea']"
   ]
  },
  {
   "cell_type": "code",
   "execution_count": 4,
   "metadata": {},
   "outputs": [],
   "source": [
    "# load cstr dataset \n",
    "temp = sio.loadmat('./data/complete_data/classic3.mat')\n",
    "classic3_lab = temp['labels'].reshape(1,-1)[0]\n",
    "classic3_data = temp['A'].toarray()"
   ]
  },
  {
   "cell_type": "code",
   "execution_count": 5,
   "metadata": {},
   "outputs": [],
   "source": [
    "# load cstr dataset \n",
    "temp = sio.loadmat('./data/complete_data/classic4.mat')\n",
    "classic4_lab = temp['labels'][0]\n",
    "classic4_data = temp['mat'].toarray()"
   ]
  },
  {
   "cell_type": "code",
   "execution_count": 8,
   "metadata": {},
   "outputs": [],
   "source": [
    "def set_nan(data, r_nan, c_nan):\n",
    "    \"\"\" Replace cells value by numpy nan.\n",
    "    \"\"\"\n",
    "    \n",
    "    X = data.copy()\n",
    "    X = X.astype(float)\n",
    "    X[r_nan, c_nan] = np.nan\n",
    "    return X\n",
    "\n",
    "def load_index(name, prob, method='mar'):\n",
    "    \"\"\" load nan cells row and col index.\n",
    "    \"\"\"\n",
    "    \n",
    "    index = joblib.load(f'./mar_missing_data/nan_idx-{name}-{method}-{prob}.joblib')\n",
    "    return index['r_nan'], index['c_nan']\n",
    "    \n",
    "\n",
    "def execute_coclust_info_impute(datasets,method='mar',probs=[0.1, 0.2, 0.5,0.7],impute_fn=None):\n",
    "    \"\"\" execute CoclustInfoImpute.\n",
    "        zero is used to replace missing data at initialisation step.\n",
    "        impute_fn is used to calculate missing data value at block level after changing Z or W.\n",
    "    \"\"\"\n",
    "    for prob in probs:\n",
    "        for key,value in datasets.items():\n",
    "            X = value[0]\n",
    "            lab = value[1]\n",
    "            if method == 'mcar':\n",
    "                X_nan, r_nan, c_nan = ampute_mcar(X,prop=prob)\n",
    "            else:\n",
    "                r_nan, c_nan = load_index(key,prob,method=method)\n",
    "                X_nan = set_nan(X, r_nan, c_nan)\n",
    "            n_clusters = len(np.unique(lab))\n",
    "            model = CoclustInfoImpute(n_row_clusters=n_clusters,n_col_clusters=n_clusters,n_init=10)\n",
    "            model.fit(X_nan,impute_func=impute_fn,na_rows=r_nan,na_cols=c_nan)\n",
    "            \n",
    "            joblib.dump({\n",
    "                'imputed': model.X_[r_nan, c_nan],\n",
    "                'real': X[r_nan, c_nan],\n",
    "                'r_nan': r_nan,\n",
    "                'c_nan': c_nan,\n",
    "                'z': model.row_labels_,\n",
    "                'w': model.column_labels_,\n",
    "            }, f'./output/{key}-{method}-{prob}-zero.joblib', compress=3)\n",
    "            \n",
    "    return \n",
    "\n",
    "def replace_imputed_ca(data,name,prob,method='mar'):\n",
    "    \"\"\" Replace real value of missing data cell of a given data by \n",
    "        imputeCA prediction.\n",
    "    \"\"\"\n",
    "    X = data.copy()\n",
    "    if method == 'mar':\n",
    "        temp = joblib.load(f'./data/impute_data/{method}/{name}_{prob}__{method}.joblib')        \n",
    "    else:\n",
    "        temp = joblib.load(f'./data/impute_data/{method}/{name}_{prob}__{method}.joblib')  \n",
    "    imputed = temp['imputed']\n",
    "    r_nan = temp['r_nan']\n",
    "    c_nan = temp['c_nan']\n",
    "    X[r_nan,c_nan] = imputed\n",
    "    return X, r_nan, c_nan\n",
    "    \n",
    "\n",
    "def execute_coclust_info_impute_ca(datasets,method='mar',probs=[0.1, 0.2, 0.5,0.7]):\n",
    "    \"\"\" execute CoclustInfo on ImputeCA result\n",
    "    \"\"\"\n",
    "    for prob in probs:\n",
    "        for key, value in datasets.items():\n",
    "            X = value[0]\n",
    "            lab = value[1]\n",
    "            X_nan, r_nan, c_nan = replace_imputed_ca(X, key, int(100 * prob), method=method)\n",
    "            n_clusters = len(np.unique(lab))\n",
    "            model = CoclustInfo(n_row_clusters=n_clusters,n_col_clusters=n_clusters,n_init=10)\n",
    "            model.fit(X_nan)\n",
    "            \n",
    "            joblib.dump({\n",
    "                'imputed': None,\n",
    "                'real': X[r_nan, c_nan],\n",
    "                'r_nan': r_nan,\n",
    "                'c_nan': c_nan,\n",
    "                'z': model.row_labels_,\n",
    "                'w': model.column_labels_,\n",
    "            }, f'./output/{key}-{method}-{prob}-NORMALCA.joblib', compress=3)\n",
    "            \n",
    "    return\n",
    "\n",
    "\n",
    "def execute_coclust_info_impute_impute_ca(datasets,impute_fn=None, method='mar',probs=[0.1, 0.2, 0.5,0.7]):\n",
    "    \"\"\" execute CoclustInfoImpute on ImputeCA result\n",
    "    \"\"\"\n",
    "    for prob in probs:\n",
    "        for key, value in datasets.items():\n",
    "            X = value[0]\n",
    "            lab = value[1]\n",
    "            X_nan, r_nan, c_nan = replace_imputed_ca(X, key, int(100 * prob), method=method)\n",
    "            n_clusters = len(np.unique(lab))\n",
    "            model = CoclustInfoImpute(n_row_clusters=n_clusters,n_col_clusters=n_clusters,n_init=5)\n",
    "            model.fit(X_nan,impute_func=impute_fn,na_rows=r_nan,na_cols=c_nan)\n",
    "            \n",
    "            joblib.dump({\n",
    "                'imputed': model.X_[r_nan, c_nan],\n",
    "                'real': X[r_nan, c_nan],\n",
    "                'r_nan': r_nan,\n",
    "                'c_nan': c_nan,\n",
    "                'z': model.row_labels_,\n",
    "                'w': model.column_labels_,\n",
    "            }, f'./remind/{key}-{method}-{prob}-NEWCA.joblib', compress=3)\n",
    "            \n",
    "    return"
   ]
  },
  {
   "cell_type": "markdown",
   "metadata": {},
   "source": [
    "## Coclust Info Impute With zero as initial missing value"
   ]
  },
  {
   "cell_type": "code",
   "execution_count": 8,
   "metadata": {},
   "outputs": [],
   "source": [
    "# create datasets\n",
    "datasets = {'cstr': [cstr_data, cstr_lab],'webace': [webace_data, webace_lab],\n",
    "           'classic3': [classic3_data, classic3_lab], 'classic4': [classic4_data, classic4_lab]}"
   ]
  },
  {
   "cell_type": "markdown",
   "metadata": {},
   "source": [
    "#### Execution on mar method"
   ]
  },
  {
   "cell_type": "code",
   "execution_count": 9,
   "metadata": {},
   "outputs": [],
   "source": [
    "execute_coclust_info_impute(datasets,impute_fn=_impute_block_representative)"
   ]
  },
  {
   "cell_type": "markdown",
   "metadata": {},
   "source": [
    "#### Execution on mcar method"
   ]
  },
  {
   "cell_type": "code",
   "execution_count": 10,
   "metadata": {},
   "outputs": [],
   "source": [
    "execute_coclust_info_impute(datasets,method='mcar',impute_fn=_impute_block_representative)"
   ]
  },
  {
   "cell_type": "markdown",
   "metadata": {},
   "source": [
    "## Coclust Info with ImputeCA"
   ]
  },
  {
   "cell_type": "markdown",
   "metadata": {},
   "source": [
    "#### Execution on mar method"
   ]
  },
  {
   "cell_type": "code",
   "execution_count": 13,
   "metadata": {},
   "outputs": [],
   "source": [
    "execute_coclust_info_impute_ca(datasets)"
   ]
  },
  {
   "cell_type": "markdown",
   "metadata": {},
   "source": [
    "#### Execution on mcar method"
   ]
  },
  {
   "cell_type": "code",
   "execution_count": 15,
   "metadata": {},
   "outputs": [],
   "source": [
    "execute_coclust_info_impute_ca(datasets, method='mcar')"
   ]
  },
  {
   "cell_type": "markdown",
   "metadata": {},
   "source": [
    "## Coclust Info Impute with ImputeCA"
   ]
  },
  {
   "cell_type": "markdown",
   "metadata": {},
   "source": [
    "### Execution on mar method"
   ]
  },
  {
   "cell_type": "code",
   "execution_count": 20,
   "metadata": {},
   "outputs": [],
   "source": [
    "execute_coclust_info_impute_impute_ca(datasets,impute_fn=_impute_block_representative)"
   ]
  },
  {
   "cell_type": "markdown",
   "metadata": {},
   "source": [
    "#### Execution on mcar method"
   ]
  },
  {
   "cell_type": "code",
   "execution_count": 21,
   "metadata": {},
   "outputs": [],
   "source": [
    "execute_coclust_info_impute_impute_ca(datasets,method='mcar',impute_fn=_impute_block_representative)"
   ]
  },
  {
   "cell_type": "markdown",
   "metadata": {},
   "source": [
    "## CoclustInfoImpute with ImputeCA and New Imputation Function"
   ]
  },
  {
   "cell_type": "code",
   "execution_count": 16,
   "metadata": {},
   "outputs": [],
   "source": [
    "# reduction dataset due to time.\n",
    "datasets = {'cstr': [cstr_data, cstr_lab],'webace': [webace_data, webace_lab]}"
   ]
  },
  {
   "cell_type": "markdown",
   "metadata": {},
   "source": [
    "### Execution on mar method"
   ]
  },
  {
   "cell_type": "code",
   "execution_count": 20,
   "metadata": {},
   "outputs": [
    {
     "ename": "ArpackNoConvergence",
     "evalue": "ARPACK error -1: No convergence (1001 iterations, 1/2 eigenvectors converged)",
     "output_type": "error",
     "traceback": [
      "\u001b[0;31m---------------------------------------------------------------------------\u001b[0m",
      "\u001b[0;31mArpackNoConvergence\u001b[0m                       Traceback (most recent call last)",
      "\u001b[0;32m<ipython-input-20-8307289f685a>\u001b[0m in \u001b[0;36m<module>\u001b[0;34m\u001b[0m\n\u001b[0;32m----> 1\u001b[0;31m \u001b[0mexecute_coclust_info_impute_impute_ca\u001b[0m\u001b[0;34m(\u001b[0m\u001b[0mdatasets\u001b[0m\u001b[0;34m,\u001b[0m\u001b[0mimpute_fn\u001b[0m\u001b[0;34m=\u001b[0m\u001b[0m_impute_block_ca\u001b[0m\u001b[0;34m)\u001b[0m\u001b[0;34m\u001b[0m\u001b[0;34m\u001b[0m\u001b[0m\n\u001b[0m",
      "\u001b[0;32m<ipython-input-8-7a3277a84e29>\u001b[0m in \u001b[0;36mexecute_coclust_info_impute_impute_ca\u001b[0;34m(datasets, impute_fn, method, probs)\u001b[0m\n\u001b[1;32m     95\u001b[0m             \u001b[0mn_clusters\u001b[0m \u001b[0;34m=\u001b[0m \u001b[0mlen\u001b[0m\u001b[0;34m(\u001b[0m\u001b[0mnp\u001b[0m\u001b[0;34m.\u001b[0m\u001b[0munique\u001b[0m\u001b[0;34m(\u001b[0m\u001b[0mlab\u001b[0m\u001b[0;34m)\u001b[0m\u001b[0;34m)\u001b[0m\u001b[0;34m\u001b[0m\u001b[0;34m\u001b[0m\u001b[0m\n\u001b[1;32m     96\u001b[0m             \u001b[0mmodel\u001b[0m \u001b[0;34m=\u001b[0m \u001b[0mCoclustInfoImpute\u001b[0m\u001b[0;34m(\u001b[0m\u001b[0mn_row_clusters\u001b[0m\u001b[0;34m=\u001b[0m\u001b[0mn_clusters\u001b[0m\u001b[0;34m,\u001b[0m\u001b[0mn_col_clusters\u001b[0m\u001b[0;34m=\u001b[0m\u001b[0mn_clusters\u001b[0m\u001b[0;34m,\u001b[0m\u001b[0mn_init\u001b[0m\u001b[0;34m=\u001b[0m\u001b[0;36m5\u001b[0m\u001b[0;34m)\u001b[0m\u001b[0;34m\u001b[0m\u001b[0;34m\u001b[0m\u001b[0m\n\u001b[0;32m---> 97\u001b[0;31m             \u001b[0mmodel\u001b[0m\u001b[0;34m.\u001b[0m\u001b[0mfit\u001b[0m\u001b[0;34m(\u001b[0m\u001b[0mX_nan\u001b[0m\u001b[0;34m,\u001b[0m\u001b[0mimpute_func\u001b[0m\u001b[0;34m=\u001b[0m\u001b[0mimpute_fn\u001b[0m\u001b[0;34m,\u001b[0m\u001b[0mna_rows\u001b[0m\u001b[0;34m=\u001b[0m\u001b[0mr_nan\u001b[0m\u001b[0;34m,\u001b[0m\u001b[0mna_cols\u001b[0m\u001b[0;34m=\u001b[0m\u001b[0mc_nan\u001b[0m\u001b[0;34m)\u001b[0m\u001b[0;34m\u001b[0m\u001b[0;34m\u001b[0m\u001b[0m\n\u001b[0m\u001b[1;32m     98\u001b[0m \u001b[0;34m\u001b[0m\u001b[0m\n\u001b[1;32m     99\u001b[0m             joblib.dump({\n",
      "\u001b[0;32m~/Desktop/Projet_Innovation/coclust_info_impute.py\u001b[0m in \u001b[0;36mfit\u001b[0;34m(self, X, impute_func, na_rows, na_cols, y)\u001b[0m\n\u001b[1;32m    185\u001b[0m         \u001b[0mseeds\u001b[0m \u001b[0;34m=\u001b[0m \u001b[0mrandom_state\u001b[0m\u001b[0;34m.\u001b[0m\u001b[0mrandint\u001b[0m\u001b[0;34m(\u001b[0m\u001b[0mnp\u001b[0m\u001b[0;34m.\u001b[0m\u001b[0miinfo\u001b[0m\u001b[0;34m(\u001b[0m\u001b[0mnp\u001b[0m\u001b[0;34m.\u001b[0m\u001b[0mint32\u001b[0m\u001b[0;34m)\u001b[0m\u001b[0;34m.\u001b[0m\u001b[0mmax\u001b[0m\u001b[0;34m,\u001b[0m \u001b[0msize\u001b[0m\u001b[0;34m=\u001b[0m\u001b[0mself\u001b[0m\u001b[0;34m.\u001b[0m\u001b[0mn_init\u001b[0m\u001b[0;34m)\u001b[0m\u001b[0;34m\u001b[0m\u001b[0;34m\u001b[0m\u001b[0m\n\u001b[1;32m    186\u001b[0m         \u001b[0;32mfor\u001b[0m \u001b[0mseed\u001b[0m \u001b[0;32min\u001b[0m \u001b[0mseeds\u001b[0m\u001b[0;34m:\u001b[0m\u001b[0;34m\u001b[0m\u001b[0;34m\u001b[0m\u001b[0m\n\u001b[0;32m--> 187\u001b[0;31m             \u001b[0mself\u001b[0m\u001b[0;34m.\u001b[0m\u001b[0m_fit_single\u001b[0m\u001b[0;34m(\u001b[0m\u001b[0mX_\u001b[0m\u001b[0;34m,\u001b[0m\u001b[0mimpute_func\u001b[0m\u001b[0;34m,\u001b[0m\u001b[0mna_rows\u001b[0m\u001b[0;34m,\u001b[0m \u001b[0mna_cols\u001b[0m\u001b[0;34m,\u001b[0m \u001b[0mseed\u001b[0m\u001b[0;34m,\u001b[0m \u001b[0my\u001b[0m\u001b[0;34m)\u001b[0m\u001b[0;34m\u001b[0m\u001b[0;34m\u001b[0m\u001b[0m\n\u001b[0m\u001b[1;32m    188\u001b[0m             \u001b[0;32mif\u001b[0m \u001b[0mnp\u001b[0m\u001b[0;34m.\u001b[0m\u001b[0misnan\u001b[0m\u001b[0;34m(\u001b[0m\u001b[0mself\u001b[0m\u001b[0;34m.\u001b[0m\u001b[0mcriterion\u001b[0m\u001b[0;34m)\u001b[0m\u001b[0;34m:\u001b[0m\u001b[0;34m\u001b[0m\u001b[0;34m\u001b[0m\u001b[0m\n\u001b[1;32m    189\u001b[0m                 raise ValueError(\"matrix may contain negative or \"\n",
      "\u001b[0;32m~/Desktop/Projet_Innovation/coclust_info_impute.py\u001b[0m in \u001b[0;36m_fit_single\u001b[0;34m(self, X, impute_func, na_rows, na_cols, random_state, y)\u001b[0m\n\u001b[1;32m    313\u001b[0m             \u001b[0;31m# impute missing value\u001b[0m\u001b[0;34m\u001b[0m\u001b[0;34m\u001b[0m\u001b[0;34m\u001b[0m\u001b[0m\n\u001b[1;32m    314\u001b[0m             \u001b[0mw_\u001b[0m \u001b[0;34m=\u001b[0m \u001b[0mnp\u001b[0m\u001b[0;34m.\u001b[0m\u001b[0margmax\u001b[0m\u001b[0;34m(\u001b[0m\u001b[0mW\u001b[0m\u001b[0;34m,\u001b[0m \u001b[0maxis\u001b[0m\u001b[0;34m=\u001b[0m\u001b[0;36m1\u001b[0m\u001b[0;34m)\u001b[0m\u001b[0;34m[\u001b[0m\u001b[0;34m:\u001b[0m\u001b[0;34m,\u001b[0m \u001b[0mnp\u001b[0m\u001b[0;34m.\u001b[0m\u001b[0mnewaxis\u001b[0m\u001b[0;34m]\u001b[0m\u001b[0;34m\u001b[0m\u001b[0;34m\u001b[0m\u001b[0m\n\u001b[0;32m--> 315\u001b[0;31m             \u001b[0mX\u001b[0m \u001b[0;34m=\u001b[0m \u001b[0msp\u001b[0m\u001b[0;34m.\u001b[0m\u001b[0mcsr_matrix\u001b[0m\u001b[0;34m(\u001b[0m\u001b[0mimpute_func\u001b[0m\u001b[0;34m(\u001b[0m\u001b[0mX\u001b[0m\u001b[0;34m.\u001b[0m\u001b[0mtoarray\u001b[0m\u001b[0;34m(\u001b[0m\u001b[0;34m)\u001b[0m\u001b[0;34m,\u001b[0m \u001b[0mZ\u001b[0m\u001b[0;34m.\u001b[0m\u001b[0mtoarray\u001b[0m\u001b[0;34m(\u001b[0m\u001b[0;34m)\u001b[0m\u001b[0;34m,\u001b[0m \u001b[0mW\u001b[0m\u001b[0;34m,\u001b[0m \u001b[0mz_\u001b[0m\u001b[0;34m,\u001b[0m \u001b[0mw_\u001b[0m\u001b[0;34m,\u001b[0m \u001b[0mna_rows\u001b[0m\u001b[0;34m,\u001b[0m \u001b[0mna_cols\u001b[0m\u001b[0;34m)\u001b[0m\u001b[0;34m)\u001b[0m\u001b[0;34m\u001b[0m\u001b[0;34m\u001b[0m\u001b[0m\n\u001b[0m\u001b[1;32m    316\u001b[0m             \u001b[0mW\u001b[0m \u001b[0;34m=\u001b[0m \u001b[0msp\u001b[0m\u001b[0;34m.\u001b[0m\u001b[0mcsr_matrix\u001b[0m\u001b[0;34m(\u001b[0m\u001b[0mW\u001b[0m\u001b[0;34m)\u001b[0m\u001b[0;34m\u001b[0m\u001b[0;34m\u001b[0m\u001b[0m\n\u001b[1;32m    317\u001b[0m \u001b[0;34m\u001b[0m\u001b[0m\n",
      "\u001b[0;32m~/Desktop/Projet_Innovation/coclust_info_impute.py\u001b[0m in \u001b[0;36m_impute_block_ca\u001b[0;34m(X, Z, W, z, w, r_nan, c_nan, ncp)\u001b[0m\n\u001b[1;32m     82\u001b[0m                     \u001b[0mX\u001b[0m\u001b[0;34m[\u001b[0m\u001b[0mr_nan\u001b[0m\u001b[0;34m[\u001b[0m\u001b[0mpois\u001b[0m\u001b[0;34m]\u001b[0m\u001b[0;34m,\u001b[0m \u001b[0mc_nan\u001b[0m\u001b[0;34m[\u001b[0m\u001b[0mpois\u001b[0m\u001b[0;34m]\u001b[0m\u001b[0;34m]\u001b[0m \u001b[0;34m=\u001b[0m \u001b[0msummary\u001b[0m\u001b[0;34m\u001b[0m\u001b[0;34m\u001b[0m\u001b[0m\n\u001b[1;32m     83\u001b[0m                 \u001b[0;32melse\u001b[0m\u001b[0;34m:\u001b[0m\u001b[0;34m\u001b[0m\u001b[0;34m\u001b[0m\u001b[0m\n\u001b[0;32m---> 84\u001b[0;31m                     \u001b[0mrecon\u001b[0m \u001b[0;34m=\u001b[0m \u001b[0mshrink_ca\u001b[0m\u001b[0;34m(\u001b[0m\u001b[0mblock\u001b[0m\u001b[0;34m,\u001b[0m \u001b[0mmin\u001b[0m\u001b[0;34m(\u001b[0m\u001b[0mncp\u001b[0m\u001b[0;34m,\u001b[0m \u001b[0mmin_dim\u001b[0m\u001b[0;34m-\u001b[0m\u001b[0;36m1\u001b[0m\u001b[0;34m)\u001b[0m\u001b[0;34m)\u001b[0m\u001b[0;34m\u001b[0m\u001b[0;34m\u001b[0m\u001b[0m\n\u001b[0m\u001b[1;32m     85\u001b[0m \u001b[0;34m\u001b[0m\u001b[0m\n\u001b[1;32m     86\u001b[0m                     \u001b[0mX_2_B_r\u001b[0m\u001b[0;34m[\u001b[0m\u001b[0mblock_z\u001b[0m\u001b[0;34m]\u001b[0m \u001b[0;34m=\u001b[0m \u001b[0mnp\u001b[0m\u001b[0;34m.\u001b[0m\u001b[0marange\u001b[0m\u001b[0;34m(\u001b[0m\u001b[0mblock\u001b[0m\u001b[0;34m.\u001b[0m\u001b[0mshape\u001b[0m\u001b[0;34m[\u001b[0m\u001b[0;36m0\u001b[0m\u001b[0;34m]\u001b[0m\u001b[0;34m)\u001b[0m\u001b[0;34m\u001b[0m\u001b[0;34m\u001b[0m\u001b[0m\n",
      "\u001b[0;32m~/Desktop/Projet_Innovation/coclust_info_impute.py\u001b[0m in \u001b[0;36mshrink_ca\u001b[0;34m(X, ncp)\u001b[0m\n\u001b[1;32m     24\u001b[0m \u001b[0;34m\u001b[0m\u001b[0m\n\u001b[1;32m     25\u001b[0m     \u001b[0msvals\u001b[0m \u001b[0;34m=\u001b[0m \u001b[0msvdvals\u001b[0m\u001b[0;34m(\u001b[0m\u001b[0mS\u001b[0m\u001b[0;34m)\u001b[0m\u001b[0;34m\u001b[0m\u001b[0;34m\u001b[0m\u001b[0m\n\u001b[0;32m---> 26\u001b[0;31m     \u001b[0mu\u001b[0m\u001b[0;34m,\u001b[0m \u001b[0ms\u001b[0m\u001b[0;34m,\u001b[0m \u001b[0mv\u001b[0m \u001b[0;34m=\u001b[0m \u001b[0msp\u001b[0m\u001b[0;34m.\u001b[0m\u001b[0mlinalg\u001b[0m\u001b[0;34m.\u001b[0m\u001b[0msvds\u001b[0m\u001b[0;34m(\u001b[0m\u001b[0mS\u001b[0m\u001b[0;34m,\u001b[0m \u001b[0mk\u001b[0m\u001b[0;34m=\u001b[0m\u001b[0mncp\u001b[0m\u001b[0;34m,\u001b[0m \u001b[0mmaxiter\u001b[0m\u001b[0;34m=\u001b[0m\u001b[0;36m1000\u001b[0m\u001b[0;34m,\u001b[0m \u001b[0mtol\u001b[0m\u001b[0;34m=\u001b[0m\u001b[0;36m1E-9\u001b[0m\u001b[0;34m)\u001b[0m\u001b[0;34m\u001b[0m\u001b[0;34m\u001b[0m\u001b[0m\n\u001b[0m\u001b[1;32m     27\u001b[0m \u001b[0;34m\u001b[0m\u001b[0m\n\u001b[1;32m     28\u001b[0m     \u001b[0mzero_vals\u001b[0m \u001b[0;34m=\u001b[0m \u001b[0mnp\u001b[0m\u001b[0;34m.\u001b[0m\u001b[0misclose\u001b[0m\u001b[0;34m(\u001b[0m\u001b[0;36m0\u001b[0m\u001b[0;34m,\u001b[0m \u001b[0ms\u001b[0m\u001b[0;34m)\u001b[0m  \u001b[0;31m# find which singular values are null\u001b[0m\u001b[0;34m\u001b[0m\u001b[0;34m\u001b[0m\u001b[0m\n",
      "\u001b[0;32m/usr/local/lib/python3.7/site-packages/scipy/sparse/linalg/eigen/arpack/arpack.py\u001b[0m in \u001b[0;36msvds\u001b[0;34m(A, k, ncv, tol, which, v0, maxiter, return_singular_vectors, solver)\u001b[0m\n\u001b[1;32m   1865\u001b[0m     \u001b[0;32melif\u001b[0m \u001b[0msolver\u001b[0m \u001b[0;34m==\u001b[0m \u001b[0;34m'arpack'\u001b[0m \u001b[0;32mor\u001b[0m \u001b[0msolver\u001b[0m \u001b[0;32mis\u001b[0m \u001b[0;32mNone\u001b[0m\u001b[0;34m:\u001b[0m\u001b[0;34m\u001b[0m\u001b[0;34m\u001b[0m\u001b[0m\n\u001b[1;32m   1866\u001b[0m         eigvals, eigvec = eigsh(XH_X, k=k, tol=tol ** 2, maxiter=maxiter,\n\u001b[0;32m-> 1867\u001b[0;31m                                 ncv=ncv, which=which, v0=v0)\n\u001b[0m\u001b[1;32m   1868\u001b[0m \u001b[0;34m\u001b[0m\u001b[0m\n\u001b[1;32m   1869\u001b[0m     \u001b[0;32melse\u001b[0m\u001b[0;34m:\u001b[0m\u001b[0;34m\u001b[0m\u001b[0;34m\u001b[0m\u001b[0m\n",
      "\u001b[0;32m/usr/local/lib/python3.7/site-packages/scipy/sparse/linalg/eigen/arpack/arpack.py\u001b[0m in \u001b[0;36meigsh\u001b[0;34m(A, k, M, sigma, which, v0, ncv, maxiter, tol, return_eigenvectors, Minv, OPinv, mode)\u001b[0m\n\u001b[1;32m   1685\u001b[0m     \u001b[0;32mwith\u001b[0m \u001b[0m_ARPACK_LOCK\u001b[0m\u001b[0;34m:\u001b[0m\u001b[0;34m\u001b[0m\u001b[0;34m\u001b[0m\u001b[0m\n\u001b[1;32m   1686\u001b[0m         \u001b[0;32mwhile\u001b[0m \u001b[0;32mnot\u001b[0m \u001b[0mparams\u001b[0m\u001b[0;34m.\u001b[0m\u001b[0mconverged\u001b[0m\u001b[0;34m:\u001b[0m\u001b[0;34m\u001b[0m\u001b[0;34m\u001b[0m\u001b[0m\n\u001b[0;32m-> 1687\u001b[0;31m             \u001b[0mparams\u001b[0m\u001b[0;34m.\u001b[0m\u001b[0miterate\u001b[0m\u001b[0;34m(\u001b[0m\u001b[0;34m)\u001b[0m\u001b[0;34m\u001b[0m\u001b[0;34m\u001b[0m\u001b[0m\n\u001b[0m\u001b[1;32m   1688\u001b[0m \u001b[0;34m\u001b[0m\u001b[0m\n\u001b[1;32m   1689\u001b[0m         \u001b[0;32mreturn\u001b[0m \u001b[0mparams\u001b[0m\u001b[0;34m.\u001b[0m\u001b[0mextract\u001b[0m\u001b[0;34m(\u001b[0m\u001b[0mreturn_eigenvectors\u001b[0m\u001b[0;34m)\u001b[0m\u001b[0;34m\u001b[0m\u001b[0;34m\u001b[0m\u001b[0m\n",
      "\u001b[0;32m/usr/local/lib/python3.7/site-packages/scipy/sparse/linalg/eigen/arpack/arpack.py\u001b[0m in \u001b[0;36miterate\u001b[0;34m(self)\u001b[0m\n\u001b[1;32m    569\u001b[0m                 \u001b[0;32mpass\u001b[0m\u001b[0;34m\u001b[0m\u001b[0;34m\u001b[0m\u001b[0m\n\u001b[1;32m    570\u001b[0m             \u001b[0;32melif\u001b[0m \u001b[0mself\u001b[0m\u001b[0;34m.\u001b[0m\u001b[0minfo\u001b[0m \u001b[0;34m==\u001b[0m \u001b[0;36m1\u001b[0m\u001b[0;34m:\u001b[0m\u001b[0;34m\u001b[0m\u001b[0;34m\u001b[0m\u001b[0m\n\u001b[0;32m--> 571\u001b[0;31m                 \u001b[0mself\u001b[0m\u001b[0;34m.\u001b[0m\u001b[0m_raise_no_convergence\u001b[0m\u001b[0;34m(\u001b[0m\u001b[0;34m)\u001b[0m\u001b[0;34m\u001b[0m\u001b[0;34m\u001b[0m\u001b[0m\n\u001b[0m\u001b[1;32m    572\u001b[0m             \u001b[0;32melse\u001b[0m\u001b[0;34m:\u001b[0m\u001b[0;34m\u001b[0m\u001b[0;34m\u001b[0m\u001b[0m\n\u001b[1;32m    573\u001b[0m                 \u001b[0;32mraise\u001b[0m \u001b[0mArpackError\u001b[0m\u001b[0;34m(\u001b[0m\u001b[0mself\u001b[0m\u001b[0;34m.\u001b[0m\u001b[0minfo\u001b[0m\u001b[0;34m,\u001b[0m \u001b[0minfodict\u001b[0m\u001b[0;34m=\u001b[0m\u001b[0mself\u001b[0m\u001b[0;34m.\u001b[0m\u001b[0miterate_infodict\u001b[0m\u001b[0;34m)\u001b[0m\u001b[0;34m\u001b[0m\u001b[0;34m\u001b[0m\u001b[0m\n",
      "\u001b[0;32m/usr/local/lib/python3.7/site-packages/scipy/sparse/linalg/eigen/arpack/arpack.py\u001b[0m in \u001b[0;36m_raise_no_convergence\u001b[0;34m(self)\u001b[0m\n\u001b[1;32m    375\u001b[0m             \u001b[0mvec\u001b[0m \u001b[0;34m=\u001b[0m \u001b[0mnp\u001b[0m\u001b[0;34m.\u001b[0m\u001b[0mzeros\u001b[0m\u001b[0;34m(\u001b[0m\u001b[0;34m(\u001b[0m\u001b[0mself\u001b[0m\u001b[0;34m.\u001b[0m\u001b[0mn\u001b[0m\u001b[0;34m,\u001b[0m \u001b[0;36m0\u001b[0m\u001b[0;34m)\u001b[0m\u001b[0;34m)\u001b[0m\u001b[0;34m\u001b[0m\u001b[0;34m\u001b[0m\u001b[0m\n\u001b[1;32m    376\u001b[0m             \u001b[0mk_ok\u001b[0m \u001b[0;34m=\u001b[0m \u001b[0;36m0\u001b[0m\u001b[0;34m\u001b[0m\u001b[0;34m\u001b[0m\u001b[0m\n\u001b[0;32m--> 377\u001b[0;31m         \u001b[0;32mraise\u001b[0m \u001b[0mArpackNoConvergence\u001b[0m\u001b[0;34m(\u001b[0m\u001b[0mmsg\u001b[0m \u001b[0;34m%\u001b[0m \u001b[0;34m(\u001b[0m\u001b[0mnum_iter\u001b[0m\u001b[0;34m,\u001b[0m \u001b[0mk_ok\u001b[0m\u001b[0;34m,\u001b[0m \u001b[0mself\u001b[0m\u001b[0;34m.\u001b[0m\u001b[0mk\u001b[0m\u001b[0;34m)\u001b[0m\u001b[0;34m,\u001b[0m \u001b[0mev\u001b[0m\u001b[0;34m,\u001b[0m \u001b[0mvec\u001b[0m\u001b[0;34m)\u001b[0m\u001b[0;34m\u001b[0m\u001b[0;34m\u001b[0m\u001b[0m\n\u001b[0m\u001b[1;32m    378\u001b[0m \u001b[0;34m\u001b[0m\u001b[0m\n\u001b[1;32m    379\u001b[0m \u001b[0;34m\u001b[0m\u001b[0m\n",
      "\u001b[0;31mArpackNoConvergence\u001b[0m: ARPACK error -1: No convergence (1001 iterations, 1/2 eigenvectors converged)"
     ]
    }
   ],
   "source": [
    "execute_coclust_info_impute_impute_ca(datasets,impute_fn=_impute_block_ca)"
   ]
  },
  {
   "cell_type": "markdown",
   "metadata": {},
   "source": [
    "### Execution on mcar method"
   ]
  },
  {
   "cell_type": "code",
   "execution_count": null,
   "metadata": {},
   "outputs": [],
   "source": [
    "execute_coclust_info_impute_impute_ca(datasets,method='mcar',impute_fn=_impute_block_ca)"
   ]
  },
  {
   "cell_type": "code",
   "execution_count": null,
   "metadata": {},
   "outputs": [],
   "source": []
  }
 ],
 "metadata": {
  "kernelspec": {
   "display_name": "Python 3",
   "language": "python",
   "name": "python3"
  },
  "language_info": {
   "codemirror_mode": {
    "name": "ipython",
    "version": 3
   },
   "file_extension": ".py",
   "mimetype": "text/x-python",
   "name": "python",
   "nbconvert_exporter": "python",
   "pygments_lexer": "ipython3",
   "version": "3.7.5"
  }
 },
 "nbformat": 4,
 "nbformat_minor": 4
}
