{
 "cells": [
  {
   "cell_type": "code",
   "execution_count": 21,
   "metadata": {},
   "outputs": [],
   "source": [
    "import numpy as np\n",
    "import matplotlib.pyplot as plt\n",
    "\n",
    "import scipy.io as sio\n",
    "import scipy.sparse as sps\n",
    "\n",
    "from ampute import ampute_mcar, ampute_mar\n",
    "from coclust.coclustering import CoclustMod\n",
    "from coclust_mod_impute import (CoclustModImpute,\n",
    "                                summarize_blocks, get_block_counts,\n",
    "                                _impute_block_representative, _impute_block_ca)\n",
    "from utils import show_matrix\n",
    "from joblib import load, dump\n",
    "import os # to play sound at the end of the execution\n",
    "from scipy.io import loadmat\n",
    "import warnings\n",
    "warnings.filterwarnings(\"ignore\")"
   ]
  },
  {
   "cell_type": "code",
   "execution_count": null,
   "metadata": {},
   "outputs": [],
   "source": []
  },
  {
   "cell_type": "code",
   "execution_count": null,
   "metadata": {},
   "outputs": [],
   "source": [
    "# keys = {\n",
    "#     'cstr':  ['gnd', 'fea'],\n",
    "#     'WebACE':  ['gnd', 'fea'],\n",
    "#     'classic3':  ['labels', 'A'],\n",
    "#     'classic4':  ['labels', 'mat'],\n",
    "#      'reviews':  ['classid', 'dtm'],\n",
    "# }"
   ]
  },
  {
   "cell_type": "code",
   "execution_count": 22,
   "metadata": {},
   "outputs": [
    {
     "data": {
      "text/plain": [
       "0"
      ]
     },
     "execution_count": 22,
     "metadata": {},
     "output_type": "execute_result"
    }
   ],
   "source": [
    "path=\"../innovation/mcar/\"\n",
    "for file in os.listdir(path):\n",
    "    if \"cstr\" in file:\n",
    "        data=loadmat(\"./complete_data/cstr.mat\")\n",
    "        n_clusters=len(np.unique(data[\"gnd\"]))\n",
    "        X_missing=data[\"fea\"]\n",
    "    elif \"webace\" in file:\n",
    "        data=loadmat(\"./complete_data/WebACE.mat\")\n",
    "        n_clusters=len(np.unique(data[\"gnd\"]))\n",
    "        X_missing=data[\"fea\"]        \n",
    "    elif \"reviews\" in file:\n",
    "        data=loadmat(\"../innovation/datasets/reviews.mat\")\n",
    "        n_clusters=len(np.unique(data[\"classid\"]))\n",
    "        X_missing=data[\"dtm\"]        \n",
    "    elif \"classic3\" in file:\n",
    "        data=loadmat(\"./complete_data/classic3.mat\")\n",
    "        n_clusters=len(np.unique(data[\"labels\"]))\n",
    "        X_missing=data[\"A\"]       \n",
    "    elif \"classic4\" in file:\n",
    "        data=loadmat(\"./complete_data/classic4.mat\")\n",
    "        n_clusters=len(np.unique(data[\"labels\"]))\n",
    "        X_missing=data[\"mat\"]\n",
    "        \n",
    "        \n",
    "    model = CoclustMod(n_clusters=n_clusters, n_init=10)\n",
    "    m = load(path+file)\n",
    "    X_missing[m[\"r_nan\"],m[\"c_nan\"]]=m[\"imputed\"]    \n",
    "    model.fit(X_missing)\n",
    "    save_path=\"./mcar_CoClustMod/\"+file[:-16]+\"-cmar-0.\"+file[-15]+\"-CoClustMod\"+file[-7:]\n",
    "    dump({\n",
    "        **m,\n",
    "        'z': model.row_labels_,\n",
    "        'w': model.column_labels_,\n",
    "    }, save_path, compress=3)\n",
    "\n",
    "os.system('echo -e \"\\07\" && echo -e \"\\007\"')\n"
   ]
  },
  {
   "cell_type": "code",
   "execution_count": null,
   "metadata": {},
   "outputs": [],
   "source": []
  },
  {
   "cell_type": "code",
   "execution_count": null,
   "metadata": {},
   "outputs": [],
   "source": []
  },
  {
   "cell_type": "code",
   "execution_count": 24,
   "metadata": {},
   "outputs": [
    {
     "data": {
      "text/plain": [
       "0"
      ]
     },
     "execution_count": 24,
     "metadata": {},
     "output_type": "execute_result"
    }
   ],
   "source": [
    "path=\"../innovation/mar/\"\n",
    "for file in os.listdir(path):\n",
    "    if \"cstr\" in file:\n",
    "        data=loadmat(\"./complete_data/cstr.mat\")\n",
    "        n_clusters=len(np.unique(data[\"gnd\"]))\n",
    "        X_missing=data[\"fea\"]\n",
    "    elif \"webace\" in file:\n",
    "        data=loadmat(\"./complete_data/WebACE.mat\")\n",
    "        n_clusters=len(np.unique(data[\"gnd\"]))\n",
    "        X_missing=data[\"fea\"]        \n",
    "    elif \"reviews\" in file:\n",
    "        data=loadmat(\"../innovation/datasets/reviews.mat\")\n",
    "        n_clusters=len(np.unique(data[\"classid\"]))\n",
    "        X_missing=data[\"dtm\"]        \n",
    "    elif \"classic3\" in file:\n",
    "        data=loadmat(\"./complete_data/classic3.mat\")\n",
    "        n_clusters=len(np.unique(data[\"labels\"]))\n",
    "        X_missing=data[\"A\"]       \n",
    "    elif \"classic4\" in file:\n",
    "        data=loadmat(\"./complete_data/classic4.mat\")\n",
    "        n_clusters=len(np.unique(data[\"labels\"]))\n",
    "        X_missing=data[\"mat\"]\n",
    "        \n",
    "        \n",
    "    model = CoclustMod(n_clusters=n_clusters, n_init=10)\n",
    "    m = load(path+file)\n",
    "    X_missing[m[\"r_nan\"],m[\"c_nan\"]]=m[\"imputed\"]    \n",
    "    model.fit(X_missing)\n",
    "    save_path=\"./mar_CoClustMod/\"+file[:-15]+\"-mar-0.\"+file[-14]+\"-CoClustMod\"+file[-7:]\n",
    "    dump({\n",
    "        **m,\n",
    "        'z': model.row_labels_,\n",
    "        'w': model.column_labels_,\n",
    "    }, save_path, compress=3)\n",
    "\n",
    "os.system('echo -e \"\\07\" && echo -e \"\\007\"')"
   ]
  },
  {
   "cell_type": "code",
   "execution_count": null,
   "metadata": {},
   "outputs": [],
   "source": []
  }
 ],
 "metadata": {
  "kernelspec": {
   "display_name": "Python 3",
   "language": "python",
   "name": "python3"
  },
  "language_info": {
   "codemirror_mode": {
    "name": "ipython",
    "version": 3
   },
   "file_extension": ".py",
   "mimetype": "text/x-python",
   "name": "python",
   "nbconvert_exporter": "python",
   "pygments_lexer": "ipython3",
   "version": "3.7.4"
  }
 },
 "nbformat": 4,
 "nbformat_minor": 2
}
