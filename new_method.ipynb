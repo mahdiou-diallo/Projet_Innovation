{
 "cells": [
  {
   "cell_type": "markdown",
   "metadata": {},
   "source": [
    "# Block CA imputation strategy\n",
    "This notebook contains the development code for the block CA imputation strategy."
   ]
  },
  {
   "cell_type": "code",
   "execution_count": 1,
   "metadata": {},
   "outputs": [],
   "source": [
    "%reload_ext autoreload\n",
    "%autoreload 2\n",
    "%reload_ext rpy2.ipython"
   ]
  },
  {
   "cell_type": "code",
   "execution_count": 2,
   "metadata": {},
   "outputs": [],
   "source": [
    "import numpy as np\n",
    "import pandas as pd\n",
    "import matplotlib.pyplot as plt\n",
    "\n",
    "import scipy.io as sio\n",
    "import scipy.sparse as sps\n",
    "from scipy.sparse.linalg import svds\n",
    "from scipy.linalg import svdvals\n",
    "\n",
    "from ampute import ampute_mcar, ampute_mar\n",
    "from coclust_mod_impute import (CoclustModImpute,\n",
    "                                summarize_blocks, get_block_counts,\n",
    "                                _impute_block_representative)\n",
    "from utils import show_matrix\n",
    "import joblib\n",
    "import os # to play sound at the end of the execution"
   ]
  },
  {
   "cell_type": "code",
   "execution_count": 3,
   "metadata": {},
   "outputs": [],
   "source": [
    "np.set_printoptions(precision=3)"
   ]
  },
  {
   "cell_type": "code",
   "execution_count": 4,
   "metadata": {},
   "outputs": [],
   "source": [
    "X = np.array([\n",
    "    [0, 0, 0, 0, 0, 0, 0, 1, 0, 0, 1, 0, 0, 0, 0, 0],\n",
    "    [0, 1, 1, 1, 0, 0, 1, 0, 0, 0, 0, 1, 0, 0, 1, 0],\n",
    "    [0, 0, 0, 0, 0, 0, 0, 1, 0, 0, 1, 0, 0, 0, 0, 0],\n",
    "    [1, 0, 0, 0, 1, 1, 0, 0, 1, 1, 0, 0, 1, 1, 0, 1],\n",
    "    [0, 1, 1, 1, 0, 0, 1, 0, 0, 0, 0, 1, 0, 0, 1, 0],\n",
    "    [1, 0, 0, 0, 1, 1, 0, 0, 1, 1, 0, 0, 1, 1, 0, 1],\n",
    "    [0, 0, 0, 0, 0, 0, 0, 0, 1, 1, 0, 0, 1, 1, 0, 0],\n",
    "    [0, 0, 0, 0, 0, 0, 0, 1, 0, 0, 1, 0, 0, 0, 0, 0],\n",
    "    [0, 1, 1, 1, 0, 0, 1, 0, 0, 0, 0, 1, 0, 0, 1, 0]])\n",
    "X = X[np.ix_([0, 2, 7, 1, 4, 8, 3, 5, 6],\n",
    "             [ 0,  4,  5, 15,  8,  9, 12, 13,  7, 10,  1,  2,  3,  6, 11, 14])]\n",
    "\n",
    "n_clusters = 3\n",
    "w = np.array([0, 0, 0, 0, 0, 0, 0, 0, 1, 1, 2, 2, 2, 2, 2, 2])\n",
    "z = np.array([0, 0, 0, 1, 1, 1, 2, 2, 2])"
   ]
  },
  {
   "cell_type": "code",
   "execution_count": 5,
   "metadata": {},
   "outputs": [
    {
     "data": {
      "text/plain": [
       "<matplotlib.image.AxesImage at 0x7f2abdc3f208>"
      ]
     },
     "execution_count": 5,
     "metadata": {},
     "output_type": "execute_result"
    },
    {
     "data": {
      "image/png": "[encoded data removed]",
      "text/plain": [
       "<Figure size 432x288 with 1 Axes>"
      ]
     },
     "metadata": {
      "needs_background": "light"
     },
     "output_type": "display_data"
    }
   ],
   "source": [
    "show_matrix(X)"
   ]
  },
  {
   "cell_type": "code",
   "execution_count": 6,
   "metadata": {},
   "outputs": [
    {
     "name": "stdout",
     "output_type": "stream",
     "text": [
      "14\n",
      "[[ 0.  0.  0.  0.  0.  0.  0.  0.  1.  1.  0.  0. nan  0.  0.  0.]\n",
      " [ 0.  0. nan nan  0.  0.  0.  0.  1.  1.  0.  0.  0.  0.  0.  0.]\n",
      " [ 0.  0.  0.  0.  0.  0.  0.  0.  1.  1.  0.  0.  0.  0.  0.  0.]\n",
      " [ 0.  0.  0. nan  0.  0.  0.  0. nan  0.  1.  1.  1.  1.  1.  1.]\n",
      " [ 0. nan nan  0.  0.  0.  0.  0.  0.  0.  1.  1.  1.  1. nan  1.]\n",
      " [ 0.  0. nan  0.  0.  0.  0.  0.  0.  0.  1.  1.  1.  1. nan  1.]\n",
      " [ 1. nan  1.  1.  1.  1.  1.  1.  0.  0.  0.  0.  0.  0.  0.  0.]\n",
      " [ 1.  1.  1.  1.  1. nan  1.  1.  0.  0.  0.  0.  0.  0.  0.  0.]\n",
      " [ 0.  0.  0.  0. nan nan  1.  1.  0.  0.  0.  0.  0.  0.  0.  0.]]\n"
     ]
    }
   ],
   "source": [
    "res, r_nan, c_nan = ampute_mcar(X, .1)\n",
    "print(np.isnan(res).sum())\n",
    "print(res)"
   ]
  },
  {
   "cell_type": "markdown",
   "metadata": {},
   "source": [
    "## Implementation of CA approximation of a matrix"
   ]
  },
  {
   "cell_type": "code",
   "execution_count": 7,
   "metadata": {},
   "outputs": [
    {
     "data": {
      "text/plain": [
       "True"
      ]
     },
     "execution_count": 7,
     "metadata": {},
     "output_type": "execute_result"
    },
    {
     "data": {
      "text/plain": [
       "4.934560527463752e-30"
      ]
     },
     "execution_count": 7,
     "metadata": {},
     "output_type": "execute_result"
    }
   ],
   "source": [
    "def shrink_ca(X, ncp=2):\n",
    "    n, p = X.shape\n",
    "    N = X.sum()\n",
    "    P = X / N\n",
    "    Rc = P.sum(axis=0)[np.newaxis, :]\n",
    "    Rr = P.sum(axis=1)[:, np.newaxis]\n",
    "    \n",
    "    S = (P - Rr @ Rc) / Rr**.5 / Rc**.5\n",
    "    u, s, v = np.linalg.svd(S, full_matrices=True)\n",
    "\n",
    "    sigma2 = (s[ncp:]**2).sum() / ((n-1)*(p-1) - (n-1)*ncp - (p-1)*ncp + ncp**2)\n",
    "    lambda_shrunk = (s[:ncp]**2 - n * p / min(p,n-1) * sigma2) / s[:ncp]\n",
    "    \n",
    "    if ncp == 1:\n",
    "        recon = (u[:,0] * lambda_shrunk)[:,np.newaxis] @ v[0,:][np.newaxis,:]\n",
    "    else:\n",
    "        recon = (u[:,:ncp] * lambda_shrunk) @ v[:ncp,]\n",
    "    \n",
    "    recon = N * (((recon * Rr**.5) * Rc**.5) + Rr @ Rc)\n",
    "    return recon\n",
    "\n",
    "rec = shrink_ca(X, ncp=3)\n",
    "np.allclose(X, rec)\n",
    "np.sum((X - rec)**2)"
   ]
  },
  {
   "cell_type": "markdown",
   "metadata": {},
   "source": [
    "## Modification to use sparse SVD"
   ]
  },
  {
   "cell_type": "code",
   "execution_count": 8,
   "metadata": {},
   "outputs": [
    {
     "name": "stdout",
     "output_type": "stream",
     "text": [
      "(9, 16)\n"
     ]
    },
    {
     "data": {
      "text/plain": [
       "True"
      ]
     },
     "execution_count": 8,
     "metadata": {},
     "output_type": "execute_result"
    },
    {
     "data": {
      "text/plain": [
       "4.856376799518244e-30"
      ]
     },
     "execution_count": 8,
     "metadata": {},
     "output_type": "execute_result"
    }
   ],
   "source": [
    "def shrink_ca2(X, ncp=2):\n",
    "    n, p = X.shape\n",
    "    N = X.sum()\n",
    "    N = 1 if N == 0 else N\n",
    "    P = X / N\n",
    "    Rc = P.sum(axis=0)[np.newaxis, :]\n",
    "    Rr = P.sum(axis=1)[:, np.newaxis]\n",
    "    Rc[Rc==0] = 1\n",
    "    Rr[Rr==0] = 1\n",
    "    S = (P - Rr @ Rc) / Rr**.5 / Rc**.5\n",
    "    \n",
    "#     print(X)\n",
    "#     print(S)\n",
    "\n",
    "    svals = svdvals(S)\n",
    "    u, s, v = sps.linalg.svds(S, k=ncp)\n",
    "#     print(s)\n",
    "#     print(svals)\n",
    "    zero_vals = np.isclose(0, s) # find which singular values are null\n",
    "    den = ((n-1)*(p-1) - (n-1)*ncp - (p-1)*ncp + ncp**2)\n",
    "    sigma2 = (svals[ncp:]**2).sum() / (1 if den == 0 else den)\n",
    "#     print('sigma2', sigma2)\n",
    "    lambda_shrunk = s.copy()\n",
    "#     print(s[~zero_vals])\n",
    "#     print(lambda_shrunk)\n",
    "    lambda_shrunk[~zero_vals] = (s[~zero_vals]**2 - n * p / min(p,n-1) * sigma2) / s[~zero_vals]\n",
    "#     print(lambda_shrunk)\n",
    "    \n",
    "    recon = (u * lambda_shrunk) @ v\n",
    "    recon = N * (((recon * Rr**.5) * Rc**.5) + Rr @ Rc)\n",
    "    recon[recon < 0] = 0 # account for numerical errors and avoid negative values\n",
    "    \n",
    "    return recon\n",
    "\n",
    "rec = shrink_ca2(X, ncp=3)\n",
    "# print(rec)\n",
    "print(rec.shape)\n",
    "np.allclose(X, rec)\n",
    "np.sum((X - rec)**2)"
   ]
  },
  {
   "cell_type": "markdown",
   "metadata": {},
   "source": [
    "## Block CA imputation implementation"
   ]
  },
  {
   "cell_type": "code",
   "execution_count": 9,
   "metadata": {
    "scrolled": false
   },
   "outputs": [
    {
     "name": "stdout",
     "output_type": "stream",
     "text": [
      "amputed data\n",
      "[[ 0.  0.  0.  0. nan  0.  1.  1.  0.]\n",
      " [ 0.  0.  0.  0. nan  0. nan nan  0.]\n",
      " [ 0. nan  0.  0. nan nan  1.  1.  0.]\n",
      " [ 0. nan  0. nan  0.  0.  1.  1.  0.]\n",
      " [nan  0.  0.  0.  0.  0. nan  1. nan]\n",
      " [ 0.  0.  0.  0. nan  0.  1. nan nan]\n",
      " [ 0.  0.  0.  0.  0.  0.  1.  1.  1.]\n",
      " [ 0.  0.  0. nan  0.  0.  1. nan  1.]\n",
      " [ 1.  1.  1. nan  0.  0.  0.  0.  0.]\n",
      " [nan  1.  1.  0. nan  0.  0.  0.  0.]\n",
      " [ 0.  0.  0.  1.  1.  1.  0.  0.  0.]\n",
      " [nan nan  0.  1.  1.  1.  0.  0.  0.]\n",
      " [nan  0.  0.  1.  1.  1.  0.  0.  0.]\n",
      " [ 0.  0. nan  1.  1.  1.  0. nan  0.]\n",
      " [ 0.  0.  0.  1. nan nan nan  0.  0.]\n",
      " [ 0.  0.  0.  1.  1.  1.  0.  0.  0.]]\n",
      "imputed data\n",
      "[[0.   0.   0.   0.   0.   0.   1.   1.   0.  ]\n",
      " [0.   0.   0.   0.   0.   0.   0.   0.   0.  ]\n",
      " [0.   0.   0.   0.   0.   0.   1.   1.   0.  ]\n",
      " [0.   0.   0.   0.   0.   0.   1.   1.   0.  ]\n",
      " [0.   0.   0.   0.   0.   0.   1.   1.   0.01]\n",
      " [0.   0.   0.   0.   0.   0.   1.   1.   0.01]\n",
      " [0.   0.   0.   0.   0.   0.   1.   1.   1.  ]\n",
      " [0.   0.   0.   0.   0.   0.   1.   1.   1.  ]\n",
      " [1.   1.   1.   0.   0.   0.   0.   0.   0.  ]\n",
      " [0.94 1.   1.   0.   0.   0.   0.   0.   0.  ]\n",
      " [0.   0.   0.   1.   1.   1.   0.   0.   0.  ]\n",
      " [0.   0.   0.   1.   1.   1.   0.   0.   0.  ]\n",
      " [0.   0.   0.   1.   1.   1.   0.   0.   0.  ]\n",
      " [0.   0.   0.   1.   1.   1.   0.   0.   0.  ]\n",
      " [0.   0.   0.   1.   1.   1.   0.   0.   0.  ]\n",
      " [0.   0.   0.   1.   1.   1.   0.   0.   0.  ]]\n",
      "original data\n",
      "[[0 0 0 0 0 0 1 1 0]\n",
      " [0 0 0 0 0 0 1 1 0]\n",
      " [0 0 0 0 0 0 1 1 0]\n",
      " [0 0 0 0 0 0 1 1 0]\n",
      " [0 0 0 0 0 0 1 1 1]\n",
      " [0 0 0 0 0 0 1 1 1]\n",
      " [0 0 0 0 0 0 1 1 1]\n",
      " [0 0 0 0 0 0 1 1 1]\n",
      " [1 1 1 0 0 0 0 0 0]\n",
      " [1 1 1 0 0 0 0 0 0]\n",
      " [0 0 0 1 1 1 0 0 0]\n",
      " [0 0 0 1 1 1 0 0 0]\n",
      " [0 0 0 1 1 1 0 0 0]\n",
      " [0 0 0 1 1 1 0 0 0]\n",
      " [0 0 0 1 1 1 0 0 0]\n",
      " [0 0 0 1 1 1 0 0 0]]\n"
     ]
    }
   ],
   "source": [
    "def impute_block_ca2(X, Z, W, z, w, r_nan, c_nan, ncp=2):\n",
    "    z = z.ravel()\n",
    "    w = w.ravel()\n",
    "    zvals = np.unique(z)\n",
    "    wvals = np.unique(w)\n",
    "    \n",
    "    for zval in zvals:\n",
    "        for wval in wvals:\n",
    "            block_z = z==zval\n",
    "            block_w = w==wval\n",
    "                           \n",
    "            pois = (z[r_nan] == zval) & (w[c_nan] == wval)\n",
    "            \n",
    "            X_2_B_r = np.ones(z.shape[0], dtype=int)*-1\n",
    "            X_2_B_c = np.ones(w.shape[0], dtype=int)*-1\n",
    "\n",
    "            if np.any(pois):\n",
    "#                 print(f'block {zval,wval} has nans')\n",
    "                block = X[np.ix_(block_z,block_w)]\n",
    "                min_dim = min(block.shape)\n",
    "                if min_dim < 2:\n",
    "                    summary = block.sum() / block.size\n",
    "                    X[r_nan[pois], c_nan[pois]] = summary\n",
    "                else:\n",
    "                    recon = shrink_ca2(block, min(ncp, min_dim-1))\n",
    "\n",
    "                    X_2_B_r[block_z] = np.arange(block.shape[0])\n",
    "                    X_2_B_c[block_w] = np.arange(block.shape[1])\n",
    "\n",
    "                    X[r_nan[pois], c_nan[pois]] = recon[X_2_B_r[r_nan[pois]], X_2_B_c[c_nan[pois]]]\n",
    "\n",
    "    return X\n",
    "\n",
    "X_missing, r_nan, c_nan = ampute_mcar(X, .2)\n",
    "\n",
    "# print(r_nan)\n",
    "# print(c_nan)\n",
    "# print(X_missing[r_nan, c_nan])\n",
    "print('amputed data')\n",
    "print(X_missing.T)\n",
    "# res = impute_block_ca2(X.astype(float), None, None, z, w, r_nan, c_nan)\n",
    "# print(np.round(res.T, 2))\n",
    "model2 = (CoclustModImpute(n_clusters=n_clusters, n_init=10)\n",
    "          .fit(X_missing, impute_block_ca2, initial_vals=None, ))\n",
    "impute2 = model2.X_\n",
    "print('imputed data')\n",
    "print(np.round(impute2.T,2))\n",
    "print('original data')\n",
    "print(X.T)"
   ]
  },
  {
   "cell_type": "code",
   "execution_count": 10,
   "metadata": {},
   "outputs": [
    {
     "name": "stdout",
     "output_type": "stream",
     "text": [
      "RMSE: 0.37551085049331023\n"
     ]
    }
   ],
   "source": [
    "diff = np.abs(X-model2.X_)\n",
    "print(f\"RMSE: {((diff**2).sum()/r_nan.shape[0])**.5}\")"
   ]
  }
 ],
 "metadata": {
  "kernelspec": {
   "display_name": "Python 3",
   "language": "python",
   "name": "python3"
  },
  "language_info": {
   "codemirror_mode": {
    "name": "ipython",
    "version": 3
   },
   "file_extension": ".py",
   "mimetype": "text/x-python",
   "name": "python",
   "nbconvert_exporter": "python",
   "pygments_lexer": "ipython3",
   "version": "3.7.5"
  }
 },
 "nbformat": 4,
 "nbformat_minor": 4
}
