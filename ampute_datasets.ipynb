{
 "cells": [
  {
   "cell_type": "code",
   "execution_count": 1,
   "metadata": {},
   "outputs": [],
   "source": [
    "%reload_ext autoreload\n",
    "%autoreload 2"
   ]
  },
  {
   "cell_type": "code",
   "execution_count": 2,
   "metadata": {},
   "outputs": [],
   "source": [
    "import numpy as np\n",
    "\n",
    "import scipy.io as sio\n",
    "import scipy.sparse as sps\n",
    "\n",
    "from ampute import ampute_mcar, ampute_mar, compute_mar_probas\n",
    "\n",
    "import joblib\n",
    "import os # to play sound at the end of the execution"
   ]
  },
  {
   "cell_type": "code",
   "execution_count": 3,
   "metadata": {},
   "outputs": [
    {
     "name": "stdout",
     "output_type": "stream",
     "text": [
      "'RCV1':  ['ans', 'gnd', 'fea', 'm', 'n', 'I', 'j', 'nz', 'i', 'x', 'X1', 'sumX']\n",
      "'WebACE':  ['gnd', 'fea']\n",
      "'classic3':  ['A', 'ts', 'ms', 'labels', 'cK']\n",
      "'classic4':  ['labels', 'mat', 'fea']\n",
      "'cstr':  ['gnd', 'fea']\n",
      "'ng20':  ['labels', 'mat', 'fea']\n",
      "'reviews':  ['dtm', 'classid']\n",
      "'sports':  ['dtm', 'classid']\n"
     ]
    }
   ],
   "source": [
    "dataset_names = ['RCV1', 'WebACE', 'classic3', 'classic4', 'cstr', 'ng20', 'reviews', 'sports']\n",
    "for dname in dataset_names:\n",
    "    m = sio.loadmat(f'data/{dname}.mat')\n",
    "    print(f'{dname!r}: ', [*filter(lambda x: not x.startswith('__'),[*m])])"
   ]
  },
  {
   "cell_type": "code",
   "execution_count": 10,
   "metadata": {},
   "outputs": [],
   "source": [
    "keys = {\n",
    "    'cstr':  ['gnd', 'fea'],\n",
    "    'WebACE':  ['gnd', 'fea'],\n",
    "    'classic3':  ['labels', 'A'],\n",
    "    'classic4':  ['labels', 'mat'],\n",
    "    'reviews':  ['classid', 'dtm'],\n",
    "#     'sports':  ['classid', 'dtm'],\n",
    "#     'RCV1':  ['gnd', 'fea'],\n",
    "#     'ng20':  ['labels', 'mat'],\n",
    "}"
   ]
  },
  {
   "cell_type": "code",
   "execution_count": 11,
   "metadata": {},
   "outputs": [],
   "source": [
    "na_props = [.1, .2, .5, .7]"
   ]
  },
  {
   "cell_type": "code",
   "execution_count": 12,
   "metadata": {},
   "outputs": [],
   "source": [
    "dataset = 'RCV1'\n",
    "na_prop = 0.1\n",
    "ampute_method = 'mar'\n",
    "init_method = 'rand'"
   ]
  },
  {
   "cell_type": "code",
   "execution_count": 13,
   "metadata": {},
   "outputs": [],
   "source": [
    "mat = sio.loadmat(f'data/{dataset}.mat')"
   ]
  },
  {
   "cell_type": "code",
   "execution_count": 14,
   "metadata": {},
   "outputs": [
    {
     "data": {
      "text/plain": [
       "scipy.sparse.csc.csc_matrix"
      ]
     },
     "execution_count": 14,
     "metadata": {},
     "output_type": "execute_result"
    }
   ],
   "source": [
    "X = mat[keys[dataset][1]]\n",
    "y = mat[keys[dataset][0]]\n",
    "type(y)"
   ]
  },
  {
   "cell_type": "code",
   "execution_count": null,
   "metadata": {},
   "outputs": [
    {
     "name": "stdout",
     "output_type": "stream",
     "text": [
      "############### mar ###############\n",
      "********** RCV1 **********\n"
     ]
    }
   ],
   "source": [
    "for ampute_method in ('mar',):\n",
    "    print(\"#\"*15, ampute_method, \"#\"*15)\n",
    "    for dataset in keys:\n",
    "        print(\"*\"*10, dataset, \"*\"*10)\n",
    "        mat = sio.loadmat(f'data/{dataset}.mat')\n",
    "        X = mat[keys[dataset][1]]\n",
    "        y = mat[keys[dataset][0]]\n",
    "        if isinstance(X, sps.csr_matrix) or isinstance(X, sps.csc_matrix):\n",
    "            X = X.toarray()\n",
    "        if ampute_method == 'mar':\n",
    "            missing_probas, _ = compute_mar_probas(X)\n",
    "        \n",
    "        for na_prop in na_props:\n",
    "            if ampute_method == 'mcar':\n",
    "                X_missing, r_nan, c_nan = ampute_mcar(X, na_prop)\n",
    "            elif ampute_method == 'mar':\n",
    "                X_missing, r_nan, c_nan = ampute_mar(X, na_prop, M_proba=missing_probas)\n",
    "            joblib.dump({\n",
    "                'r_nan': r_nan,\n",
    "                'c_nan': c_nan,\n",
    "            }, f'data/out/nan_idx-{dataset}-{ampute_method}-{na_prop}.joblib', compress=3)\n",
    "    \n",
    "os.system('echo -e \"\\07\" && echo -e \"\\007\"')"
   ]
  },
  {
   "cell_type": "code",
   "execution_count": null,
   "metadata": {},
   "outputs": [],
   "source": []
  }
 ],
 "metadata": {
  "kernelspec": {
   "display_name": "Python 3",
   "language": "python",
   "name": "python3"
  },
  "language_info": {
   "codemirror_mode": {
    "name": "ipython",
    "version": 3
   },
   "file_extension": ".py",
   "mimetype": "text/x-python",
   "name": "python",
   "nbconvert_exporter": "python",
   "pygments_lexer": "ipython3",
   "version": "3.7.3"
  }
 },
 "nbformat": 4,
 "nbformat_minor": 2
}
