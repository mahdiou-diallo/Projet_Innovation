{
 "cells": [
  {
   "cell_type": "code",
   "execution_count": 1,
   "metadata": {},
   "outputs": [],
   "source": [
    "%reload_ext autoreload\n",
    "%autoreload 2\n",
    "%reload_ext rpy2.ipython"
   ]
  },
  {
   "cell_type": "code",
   "execution_count": 2,
   "metadata": {},
   "outputs": [],
   "source": [
    "import numpy as np\n",
    "import matplotlib.pyplot as plt\n",
    "\n",
    "import scipy.io as sio\n",
    "import scipy.sparse as sps\n",
    "\n",
    "from ampute import ampute_mcar, ampute_mar\n",
    "from coclust_mod_impute import (CoclustModImpute,\n",
    "                                summarize_blocks, get_block_counts,\n",
    "                                _impute_block_representative, _impute_block_ca)\n",
    "from utils import show_matrix\n",
    "import joblib\n",
    "import os # to play sound at the end of the execution"
   ]
  },
  {
   "cell_type": "code",
   "execution_count": 3,
   "metadata": {},
   "outputs": [],
   "source": [
    "np.set_printoptions(precision=3)"
   ]
  },
  {
   "cell_type": "code",
   "execution_count": 4,
   "metadata": {},
   "outputs": [],
   "source": [
    "%%R\n",
    "library(missMDA)\n",
    "library(FactoMineR)"
   ]
  },
  {
   "cell_type": "code",
   "execution_count": 5,
   "metadata": {},
   "outputs": [],
   "source": [
    "X = np.array([\n",
    "    [0, 0, 0, 0, 0, 0, 0, 1, 0, 0, 1, 0, 0, 0, 0, 0],\n",
    "    [0, 1, 1, 1, 0, 0, 1, 0, 0, 0, 0, 1, 0, 0, 1, 0],\n",
    "    [0, 0, 0, 0, 0, 0, 0, 1, 0, 0, 1, 0, 0, 0, 0, 0],\n",
    "    [1, 0, 0, 0, 1, 1, 0, 0, 1, 1, 0, 0, 1, 1, 0, 1],\n",
    "    [0, 1, 1, 1, 0, 0, 1, 0, 0, 0, 0, 1, 0, 0, 1, 0],\n",
    "    [1, 0, 0, 0, 1, 1, 0, 0, 1, 1, 0, 0, 1, 1, 0, 1],\n",
    "    [0, 0, 0, 0, 0, 0, 0, 0, 1, 1, 0, 0, 1, 1, 0, 0],\n",
    "    [0, 0, 0, 0, 0, 0, 0, 1, 0, 0, 1, 0, 0, 0, 0, 0],\n",
    "    [0, 1, 1, 1, 0, 0, 1, 0, 0, 0, 0, 1, 0, 0, 1, 0]])\n",
    "X = X[np.ix_([0, 2, 7, 1, 4, 8, 3, 5, 6],\n",
    "             [ 0,  4,  5, 15,  8,  9, 12, 13,  7, 10,  1,  2,  3,  6, 11, 14])]\n",
    "\n",
    "n_clusters = 3\n",
    "w = np.array([0, 0, 0, 0, 0, 0, 0, 0, 1, 1, 2, 2, 2, 2, 2, 2])\n",
    "z = np.array([0, 0, 0, 1, 1, 1, 2, 2, 2])"
   ]
  },
  {
   "cell_type": "code",
   "execution_count": 6,
   "metadata": {},
   "outputs": [
    {
     "data": {
      "text/plain": [
       "<matplotlib.image.AxesImage at 0x7f105377e6d8>"
      ]
     },
     "execution_count": 6,
     "metadata": {},
     "output_type": "execute_result"
    },
    {
     "data": {
      "image/png": "[encoded data removed]",
      "text/plain": [
       "<Figure size 432x288 with 1 Axes>"
      ]
     },
     "metadata": {
      "needs_background": "light"
     },
     "output_type": "display_data"
    }
   ],
   "source": [
    "show_matrix(X)"
   ]
  },
  {
   "cell_type": "code",
   "execution_count": 7,
   "metadata": {},
   "outputs": [
    {
     "name": "stdout",
     "output_type": "stream",
     "text": [
      "28\n",
      "[[ 0.  0.  0.  0. nan  0.  0.  0.  1. nan  0. nan nan  0.  0.  0.]\n",
      " [ 0.  0. nan nan  0.  0.  0.  0.  1.  1.  0. nan  0.  0.  0.  0.]\n",
      " [ 0.  0.  0.  0.  0.  0.  0.  0.  1.  1.  0.  0.  0. nan  0.  0.]\n",
      " [ 0.  0.  0. nan  0.  0.  0. nan nan  0.  1.  1.  1.  1.  1.  1.]\n",
      " [nan nan nan  0.  0. nan  0.  0.  0. nan  1.  1.  1.  1. nan  1.]\n",
      " [ 0.  0. nan  0.  0.  0.  0.  0.  0.  0.  1.  1.  1.  1. nan  1.]\n",
      " [ 1. nan  1.  1. nan  1.  1.  1.  0.  0.  0.  0.  0.  0. nan  0.]\n",
      " [ 1. nan  1.  1.  1. nan  1. nan  0.  0.  0.  0.  0. nan  0.  0.]\n",
      " [ 0.  0.  0.  0. nan nan  1.  1.  0.  0.  0.  0.  0.  0.  0.  0.]]\n"
     ]
    }
   ],
   "source": [
    "res, r_nan, c_nan = ampute_mcar(X, .2)\n",
    "print(np.isnan(res).sum())\n",
    "print(res)"
   ]
  },
  {
   "cell_type": "code",
   "execution_count": 8,
   "metadata": {},
   "outputs": [],
   "source": [
    "z_labels = np.arange(n_clusters)[:, np.newaxis]\n",
    "w_labels = z_labels\n",
    "\n",
    "Z = (z == z_labels).T\n",
    "W = (w == w_labels).T"
   ]
  },
  {
   "cell_type": "code",
   "execution_count": 9,
   "metadata": {},
   "outputs": [
    {
     "data": {
      "text/plain": [
       "array([[ 0,  6,  0],\n",
       "       [ 0,  0, 18],\n",
       "       [20,  0,  0]])"
      ]
     },
     "execution_count": 9,
     "metadata": {},
     "output_type": "execute_result"
    }
   ],
   "source": [
    "summarize_blocks(X, Z, W)"
   ]
  },
  {
   "cell_type": "code",
   "execution_count": 10,
   "metadata": {},
   "outputs": [
    {
     "data": {
      "text/plain": [
       "array([[24,  6, 18],\n",
       "       [24,  6, 18],\n",
       "       [24,  6, 18]])"
      ]
     },
     "execution_count": 10,
     "metadata": {},
     "output_type": "execute_result"
    }
   ],
   "source": [
    "get_block_counts(Z, W)"
   ]
  },
  {
   "cell_type": "code",
   "execution_count": 11,
   "metadata": {},
   "outputs": [
    {
     "data": {
      "text/plain": [
       "((9, 3), (16, 3))"
      ]
     },
     "execution_count": 11,
     "metadata": {},
     "output_type": "execute_result"
    }
   ],
   "source": [
    "Z.shape, W.shape"
   ]
  },
  {
   "cell_type": "code",
   "execution_count": 12,
   "metadata": {},
   "outputs": [
    {
     "data": {
      "text/plain": [
       "array([[0.   , 1.   , 0.   ],\n",
       "       [0.   , 0.   , 1.   ],\n",
       "       [0.833, 0.   , 0.   ]])"
      ]
     },
     "execution_count": 12,
     "metadata": {},
     "output_type": "execute_result"
    }
   ],
   "source": [
    "block_rep_vals = summarize_blocks(X, Z, W) / get_block_counts(Z, W)\n",
    "block_rep_vals"
   ]
  },
  {
   "cell_type": "code",
   "execution_count": 13,
   "metadata": {},
   "outputs": [
    {
     "data": {
      "text/plain": [
       "<matplotlib.image.AxesImage at 0x7f1053719470>"
      ]
     },
     "execution_count": 13,
     "metadata": {},
     "output_type": "execute_result"
    },
    {
     "data": {
      "image/png": "[encoded data removed]",
      "text/plain": [
       "<Figure size 432x288 with 1 Axes>"
      ]
     },
     "metadata": {
      "needs_background": "light"
     },
     "output_type": "display_data"
    }
   ],
   "source": [
    "tmp = res.copy()\n",
    "tmp[r_nan, c_nan] = block_rep_vals[z[r_nan],w[c_nan]]\n",
    "show_matrix(tmp)"
   ]
  },
  {
   "cell_type": "code",
   "execution_count": 14,
   "metadata": {},
   "outputs": [
    {
     "name": "stdout",
     "output_type": "stream",
     "text": [
      "[0.83 0.   0.   0.83 0.   0.   0.83 0.   0.   0.   0.   1.   1.   0.83\n",
      " 0.83 0.   0.   0.   0.   0.   0.   0.83 0.   0.83 0.   0.   1.   0.  ]\n",
      "[1 0 0 1 0 0 1 0 0 0 0 1 1 1 1 0 0 0 0 0 0 1 0 1 0 0 1 0]\n"
     ]
    }
   ],
   "source": [
    "print(np.round(tmp[r_nan, c_nan],2))\n",
    "print(X[r_nan, c_nan])"
   ]
  },
  {
   "cell_type": "code",
   "execution_count": 15,
   "metadata": {},
   "outputs": [
    {
     "data": {
      "text/plain": [
       "<matplotlib.image.AxesImage at 0x7f1053669f60>"
      ]
     },
     "execution_count": 15,
     "metadata": {},
     "output_type": "execute_result"
    },
    {
     "data": {
      "image/png": "[encoded data removed]",
      "text/plain": [
       "<Figure size 432x288 with 1 Axes>"
      ]
     },
     "metadata": {
      "needs_background": "light"
     },
     "output_type": "display_data"
    }
   ],
   "source": [
    "show_matrix(np.abs(X-tmp), no_axes=False)"
   ]
  },
  {
   "cell_type": "code",
   "execution_count": 16,
   "metadata": {},
   "outputs": [
    {
     "data": {
      "text/plain": [
       "<matplotlib.image.AxesImage at 0x7f1050fc00f0>"
      ]
     },
     "execution_count": 16,
     "metadata": {},
     "output_type": "execute_result"
    },
    {
     "data": {
      "image/png": "[encoded data removed]",
      "text/plain": [
       "<Figure size 432x288 with 1 Axes>"
      ]
     },
     "metadata": {
      "needs_background": "light"
     },
     "output_type": "display_data"
    }
   ],
   "source": [
    "XW = X @ W\n",
    "# cls = np.argmax(XW, axis=1)\n",
    "# Z = cls == z_labels\n",
    "# print(XW)\n",
    "\n",
    "na_rep = XW / W.sum(axis=0)\n",
    "# print(np.round(na_rep,5))\n",
    "X_nan = res.copy()\n",
    "X_nan[r_nan, c_nan] = (na_rep @ W.T)[r_nan, c_nan]\n",
    "\n",
    "show_matrix(X_nan)\n",
    "\n",
    "# print(np.round(W.T @ na_rep,2).T[nan_mask])\n",
    "\n"
   ]
  },
  {
   "cell_type": "code",
   "execution_count": 17,
   "metadata": {},
   "outputs": [
    {
     "name": "stdout",
     "output_type": "stream",
     "text": [
      "[1.  0.  0.  1.  0.  0.  0.5 0.  0.  0.  0.  1.  1.  0.5 1.  0.  0.  0.\n",
      " 0.  0.  0.  1.  0.  1.  0.  0.  1.  0. ]\n",
      "[1 0 0 1 0 0 1 0 0 0 0 1 1 1 1 0 0 0 0 0 0 1 0 1 0 0 1 0]\n"
     ]
    }
   ],
   "source": [
    "print(np.round(X_nan[r_nan, c_nan],2))\n",
    "print(X[r_nan, c_nan])"
   ]
  },
  {
   "cell_type": "code",
   "execution_count": 18,
   "metadata": {},
   "outputs": [
    {
     "name": "stdout",
     "output_type": "stream",
     "text": [
      "SSE: 0.5\n",
      "rounded error matrix\n"
     ]
    },
    {
     "data": {
      "text/plain": [
       "<matplotlib.image.AxesImage at 0x7f1050f95d30>"
      ]
     },
     "execution_count": 18,
     "metadata": {},
     "output_type": "execute_result"
    },
    {
     "data": {
      "image/png": "[encoded data removed]",
      "text/plain": [
       "<Figure size 432x288 with 1 Axes>"
      ]
     },
     "metadata": {
      "needs_background": "light"
     },
     "output_type": "display_data"
    }
   ],
   "source": [
    "diff = np.abs(X-X_nan)\n",
    "print(f\"SSE: {(diff**2).sum()}\")\n",
    "print(\"rounded error matrix\")\n",
    "show_matrix(diff)"
   ]
  },
  {
   "cell_type": "code",
   "execution_count": 19,
   "metadata": {},
   "outputs": [
    {
     "data": {
      "text/plain": [
       "<matplotlib.image.AxesImage at 0x7f1050ef7ac8>"
      ]
     },
     "execution_count": 19,
     "metadata": {},
     "output_type": "execute_result"
    },
    {
     "data": {
      "image/png": "[encoded data removed]",
      "text/plain": [
       "<Figure size 432x288 with 1 Axes>"
      ]
     },
     "metadata": {
      "needs_background": "light"
     },
     "output_type": "display_data"
    }
   ],
   "source": [
    "XtZ = X.T @ Z\n",
    "\n",
    "na_rep = XtZ / Z.sum(axis=0)\n",
    "# print(np.round(na_rep,5))\n",
    "X_nan = res.copy()\n",
    "X_nan[r_nan, c_nan] = (Z @ na_rep.T)[r_nan, c_nan]\n",
    "\n",
    "show_matrix(X_nan)"
   ]
  },
  {
   "cell_type": "code",
   "execution_count": 20,
   "metadata": {},
   "outputs": [
    {
     "name": "stdout",
     "output_type": "stream",
     "text": [
      "[1.   0.   0.   0.67 0.   0.   1.   0.   0.   0.   0.   1.   1.   1.\n",
      " 1.   0.   0.   0.   0.   0.   0.   1.   0.   0.67 0.   0.   1.   0.  ]\n",
      "[1 0 0 1 0 0 1 0 0 0 0 1 1 1 1 0 0 0 0 0 0 1 0 1 0 0 1 0]\n"
     ]
    }
   ],
   "source": [
    "print(np.round(X_nan[r_nan, c_nan],2))\n",
    "print(X[r_nan, c_nan])"
   ]
  },
  {
   "cell_type": "code",
   "execution_count": 21,
   "metadata": {},
   "outputs": [
    {
     "name": "stdout",
     "output_type": "stream",
     "text": [
      "SSE: 0.22222222222222227\n",
      "rounded error matrix\n"
     ]
    },
    {
     "data": {
      "text/plain": [
       "<matplotlib.image.AxesImage at 0x7f1050ed8748>"
      ]
     },
     "execution_count": 21,
     "metadata": {},
     "output_type": "execute_result"
    },
    {
     "data": {
      "image/png": "[encoded data removed]",
      "text/plain": [
       "<Figure size 432x288 with 1 Axes>"
      ]
     },
     "metadata": {
      "needs_background": "light"
     },
     "output_type": "display_data"
    }
   ],
   "source": [
    "diff = np.abs(X-X_nan)\n",
    "print(f\"SSE: {(diff**2).sum()}\")\n",
    "print(\"rounded error matrix\")\n",
    "show_matrix(diff, no_axes=False)"
   ]
  },
  {
   "cell_type": "markdown",
   "metadata": {},
   "source": [
    "## Modification de CoClustMod"
   ]
  },
  {
   "cell_type": "code",
   "execution_count": 22,
   "metadata": {},
   "outputs": [
    {
     "name": "stdout",
     "output_type": "stream",
     "text": [
      "Percentage of newly generated mising values: 0.2013888888888889\n"
     ]
    }
   ],
   "source": [
    "X_missing, r_nan, c_nan = ampute_mar(X, .2, random_state=None)"
   ]
  },
  {
   "cell_type": "code",
   "execution_count": 23,
   "metadata": {},
   "outputs": [],
   "source": [
    "%%R -i X_missing -o ca_imputed\n",
    "ca_imputed <- imputeCA(X_missing, ncp=2)"
   ]
  },
  {
   "cell_type": "code",
   "execution_count": 24,
   "metadata": {},
   "outputs": [],
   "source": [
    "init_vals = ca_imputed[r_nan, c_nan]"
   ]
  },
  {
   "cell_type": "code",
   "execution_count": 25,
   "metadata": {},
   "outputs": [
    {
     "name": "stdout",
     "output_type": "stream",
     "text": [
      "[[ 0. nan nan nan nan  0.  0.  0.  1.  1.  0.  0. nan  0.  0.  0.]\n",
      " [ 0. nan nan  0.  0.  0.  0.  0.  1.  1.  0.  0. nan  0.  0.  0.]\n",
      " [ 0. nan nan nan  0.  0.  0.  0.  1.  1.  0.  0.  0.  0.  0.  0.]\n",
      " [ 0.  0.  0.  0. nan nan  0.  0.  0.  0.  1.  1.  1.  1.  1. nan]\n",
      " [ 0.  0. nan nan nan nan  0.  0.  0.  0.  1.  1.  1.  1.  1.  1.]\n",
      " [ 0.  0.  0. nan nan nan  0.  0.  0.  0.  1.  1.  1.  1.  1.  1.]\n",
      " [ 1.  1.  1.  1.  1.  1.  1.  1.  0.  0.  0.  0. nan  0. nan  0.]\n",
      " [nan  1.  1.  1.  1.  1.  1.  1.  0.  0.  0.  0.  0.  0. nan  0.]\n",
      " [nan  0.  0.  0.  1.  1. nan  1.  0.  0.  0.  0. nan  0. nan  0.]]\n"
     ]
    }
   ],
   "source": [
    "model = CoclustModImpute(n_clusters=3)\n",
    "print(X_missing)"
   ]
  },
  {
   "cell_type": "code",
   "execution_count": 26,
   "metadata": {},
   "outputs": [
    {
     "data": {
      "text/plain": [
       "CoclustModImpute(init=None, max_iter=20, n_clusters=3, n_init=1, n_jobs=1,\n",
       "                 random_state=None, tol=1e-09)"
      ]
     },
     "execution_count": 26,
     "metadata": {},
     "output_type": "execute_result"
    }
   ],
   "source": [
    "model.fit(X_missing, _impute_block_representative, initial_vals=init_vals)\n",
    "# model.fit(X_missing, _impute_block_representative, initial_vals=None)"
   ]
  },
  {
   "cell_type": "code",
   "execution_count": 27,
   "metadata": {},
   "outputs": [
    {
     "name": "stdout",
     "output_type": "stream",
     "text": [
      "SSE: 9.115214121383913\n",
      "rounded error matrix\n"
     ]
    },
    {
     "data": {
      "text/plain": [
       "<matplotlib.image.AxesImage at 0x7f101f749f60>"
      ]
     },
     "execution_count": 27,
     "metadata": {},
     "output_type": "execute_result"
    },
    {
     "data": {
      "image/png": "[encoded data removed]",
      "text/plain": [
       "<Figure size 432x288 with 1 Axes>"
      ]
     },
     "metadata": {
      "needs_background": "light"
     },
     "output_type": "display_data"
    }
   ],
   "source": [
    "diff = np.abs(X-model.X_)\n",
    "print(f\"SSE: {(diff**2).sum()}\")\n",
    "print(\"rounded error matrix\")\n",
    "show_matrix(diff[np.ix_(np.argsort(model.row_labels_), np.argsort(model.column_labels_))], no_axes=False)"
   ]
  },
  {
   "cell_type": "code",
   "execution_count": 28,
   "metadata": {},
   "outputs": [
    {
     "data": {
      "text/plain": [
       "<matplotlib.image.AxesImage at 0x7f101f4a9a58>"
      ]
     },
     "execution_count": 28,
     "metadata": {},
     "output_type": "execute_result"
    },
    {
     "data": {
      "image/png": "[encoded data removed]",
      "text/plain": [
       "<Figure size 432x288 with 1 Axes>"
      ]
     },
     "metadata": {
      "needs_background": "light"
     },
     "output_type": "display_data"
    }
   ],
   "source": [
    "show_matrix(X[np.ix_(np.argsort(model.row_labels_), np.argsort(model.column_labels_))])"
   ]
  },
  {
   "cell_type": "code",
   "execution_count": 29,
   "metadata": {},
   "outputs": [
    {
     "data": {
      "text/plain": [
       "<matplotlib.image.AxesImage at 0x7f101f407f60>"
      ]
     },
     "execution_count": 29,
     "metadata": {},
     "output_type": "execute_result"
    },
    {
     "data": {
      "image/png": "[encoded data removed]",
      "text/plain": [
       "<Figure size 432x288 with 1 Axes>"
      ]
     },
     "metadata": {
      "needs_background": "light"
     },
     "output_type": "display_data"
    }
   ],
   "source": [
    "show_matrix(model.X_[np.ix_(np.argsort(model.row_labels_), np.argsort(model.column_labels_))])"
   ]
  },
  {
   "cell_type": "markdown",
   "metadata": {},
   "source": [
    "## Test on real dataset"
   ]
  },
  {
   "cell_type": "code",
   "execution_count": 30,
   "metadata": {},
   "outputs": [
    {
     "name": "stdout",
     "output_type": "stream",
     "text": [
      "'RCV1':  ['ans', 'gnd', 'fea', 'm', 'n', 'I', 'j', 'nz', 'i', 'x', 'X1', 'sumX']\n",
      "'WebACE':  ['gnd', 'fea']\n",
      "'classic3':  ['A', 'ts', 'ms', 'labels', 'cK']\n",
      "'classic4':  ['labels', 'mat', 'fea']\n",
      "'cstr':  ['gnd', 'fea']\n",
      "'ng20':  ['labels', 'mat', 'fea']\n",
      "'reviews':  ['dtm', 'classid']\n",
      "'sports':  ['dtm', 'classid']\n"
     ]
    }
   ],
   "source": [
    "dataset_names = ['RCV1', 'WebACE', 'classic3', 'classic4', 'cstr', 'ng20', 'reviews', 'sports']\n",
    "for dname in dataset_names:\n",
    "    m = sio.loadmat(f'data/{dname}.mat')\n",
    "    print(f'{dname!r}: ', [*filter(lambda x: not x.startswith('__'),[*m])])"
   ]
  },
  {
   "cell_type": "code",
   "execution_count": 31,
   "metadata": {},
   "outputs": [],
   "source": [
    "keys = {\n",
    "    'cstr':  ['gnd', 'fea'],\n",
    "    'WebACE':  ['gnd', 'fea'],\n",
    "    'classic3':  ['labels', 'A'],\n",
    "    'classic4':  ['labels', 'mat'],\n",
    "#     'reviews':  ['classid', 'dtm'],\n",
    "#     'sports':  ['classid', 'dtm'],\n",
    "#     'RCV1':  ['gnd', 'fea'],\n",
    "#     'ng20':  ['labels', 'mat'],\n",
    "}"
   ]
  },
  {
   "cell_type": "code",
   "execution_count": 32,
   "metadata": {},
   "outputs": [],
   "source": [
    "na_props = [.1, .2, .5, .7]"
   ]
  },
  {
   "cell_type": "code",
   "execution_count": 33,
   "metadata": {},
   "outputs": [],
   "source": [
    "dataset = 'cstr'\n",
    "na_prop = 0.1\n",
    "ampute_method = 'mcar'\n",
    "init_method = 'CA'\n",
    "impute_init = init_method"
   ]
  },
  {
   "cell_type": "code",
   "execution_count": 34,
   "metadata": {},
   "outputs": [],
   "source": [
    "mat = sio.loadmat(f'data/{dataset}.mat')"
   ]
  },
  {
   "cell_type": "code",
   "execution_count": 35,
   "metadata": {},
   "outputs": [
    {
     "data": {
      "text/plain": [
       "(475, 1000)"
      ]
     },
     "execution_count": 35,
     "metadata": {},
     "output_type": "execute_result"
    }
   ],
   "source": [
    "X = mat[keys[dataset][1]]\n",
    "y = mat[keys[dataset][0]]\n",
    "X.shape"
   ]
  },
  {
   "cell_type": "code",
   "execution_count": 36,
   "metadata": {},
   "outputs": [
    {
     "data": {
      "text/plain": [
       "4"
      ]
     },
     "execution_count": 36,
     "metadata": {},
     "output_type": "execute_result"
    }
   ],
   "source": [
    "if isinstance(X, sps.csr_matrix) or isinstance(X, sps.csc_matrix):\n",
    "    X = X.toarray()\n",
    "n_clusters = len(np.unique(y.ravel()))\n",
    "n_clusters"
   ]
  },
  {
   "cell_type": "code",
   "execution_count": 37,
   "metadata": {},
   "outputs": [
    {
     "data": {
      "text/plain": [
       "numpy.ndarray"
      ]
     },
     "execution_count": 37,
     "metadata": {},
     "output_type": "execute_result"
    }
   ],
   "source": [
    "type(X)"
   ]
  },
  {
   "cell_type": "code",
   "execution_count": 38,
   "metadata": {},
   "outputs": [],
   "source": [
    "if ampute_method == 'mcar':\n",
    "    X_missing, r_nan, c_nan = ampute_mcar(X, na_prop)\n",
    "elif ampute_method == 'mar':\n",
    "    X_missing, r_nan, c_nan = ampute_mar(X, na_prop)"
   ]
  },
  {
   "cell_type": "code",
   "execution_count": 39,
   "metadata": {},
   "outputs": [],
   "source": [
    "# m = joblib.load(f'data/missMDA_imputed/{dataset}_{int(na_prop*100)}__{ampute_method}.joblib')"
   ]
  },
  {
   "cell_type": "code",
   "execution_count": 40,
   "metadata": {},
   "outputs": [],
   "source": [
    "# %%R -i X_missing -o ca_imputed\n",
    "# ca_imputed <- imputeCA(X_missing, ncp=2)"
   ]
  },
  {
   "cell_type": "code",
   "execution_count": 41,
   "metadata": {},
   "outputs": [],
   "source": [
    "# init_vals = ca_imputed[r_nan, c_nan]"
   ]
  },
  {
   "cell_type": "code",
   "execution_count": 42,
   "metadata": {},
   "outputs": [
    {
     "data": {
      "text/plain": [
       "CoclustModImpute(init=None, max_iter=20, n_clusters=4, n_init=10, n_jobs=2,\n",
       "                 random_state=None, tol=1e-09)"
      ]
     },
     "execution_count": 42,
     "metadata": {},
     "output_type": "execute_result"
    }
   ],
   "source": [
    "model = CoclustModImpute(n_clusters=n_clusters, n_init=10, n_jobs=2)\n",
    "if init_method == 'CA':\n",
    "    m = joblib.load(f'data/missMDA_imputed/{dataset}_{int(na_prop*100)}__{ampute_method}.joblib')\n",
    "    model.fit(X_missing, _impute_block_representative, initial_vals=m['imputed'])\n",
    "else:\n",
    "    model.fit(X_missing, _impute_block_representative, initial_vals=impute_init)"
   ]
  },
  {
   "cell_type": "code",
   "execution_count": 44,
   "metadata": {},
   "outputs": [
    {
     "name": "stdout",
     "output_type": "stream",
     "text": [
      "RMSE: 31.26362133794324\n",
      "rounded error matrix\n"
     ]
    },
    {
     "data": {
      "text/plain": [
       "<matplotlib.image.AxesImage at 0x7f101bb4bb70>"
      ]
     },
     "execution_count": 44,
     "metadata": {},
     "output_type": "execute_result"
    },
    {
     "data": {
      "image/png": "[encoded data removed]",
      "text/plain": [
       "<Figure size 432x288 with 1 Axes>"
      ]
     },
     "metadata": {
      "needs_background": "light"
     },
     "output_type": "display_data"
    }
   ],
   "source": [
    "diff = np.abs(X-model.X_)\n",
    "print(f\"RMSE: {((diff**2).sum()/r_nan.shape[0])**.5}\")\n",
    "print(\"rounded error matrix\")\n",
    "show_matrix(diff[np.ix_(np.argsort(model.row_labels_), np.argsort(model.column_labels_))], no_axes=False)"
   ]
  },
  {
   "cell_type": "code",
   "execution_count": 45,
   "metadata": {},
   "outputs": [
    {
     "data": {
      "text/plain": [
       "<matplotlib.image.AxesImage at 0x7f101baa9400>"
      ]
     },
     "execution_count": 45,
     "metadata": {},
     "output_type": "execute_result"
    },
    {
     "data": {
      "image/png": "[encoded data removed]",
      "text/plain": [
       "<Figure size 432x288 with 1 Axes>"
      ]
     },
     "metadata": {
      "needs_background": "light"
     },
     "output_type": "display_data"
    }
   ],
   "source": [
    "show_matrix(X[np.ix_(np.argsort(model.row_labels_), np.argsort(model.column_labels_))])"
   ]
  },
  {
   "cell_type": "code",
   "execution_count": 46,
   "metadata": {},
   "outputs": [
    {
     "data": {
      "text/plain": [
       "<matplotlib.image.AxesImage at 0x7f101ba7a390>"
      ]
     },
     "execution_count": 46,
     "metadata": {},
     "output_type": "execute_result"
    },
    {
     "data": {
      "image/png": "[encoded data removed]",
      "text/plain": [
       "<Figure size 432x288 with 1 Axes>"
      ]
     },
     "metadata": {
      "needs_background": "light"
     },
     "output_type": "display_data"
    }
   ],
   "source": [
    "show_matrix(model.X_[np.ix_(np.argsort(model.row_labels_), np.argsort(model.column_labels_))])"
   ]
  },
  {
   "cell_type": "code",
   "execution_count": 47,
   "metadata": {},
   "outputs": [],
   "source": [
    "# sio.savemat(f'data/out/{dataset}-{ampute_method}-{na_prop}-{init_method}.mat', {\n",
    "#     'imputed': model.X_[r_nan, c_nan],\n",
    "#     'r_nan': r_nan,\n",
    "#     'c_nan': c_nan,\n",
    "#     'z': model.row_labels_,\n",
    "#     'w': model.column_labels_,\n",
    "# })"
   ]
  },
  {
   "cell_type": "code",
   "execution_count": 48,
   "metadata": {},
   "outputs": [],
   "source": [
    "# joblib.dump({\n",
    "#     'imputed': model.X_[r_nan, c_nan],\n",
    "#     'real': X[r_nan, c_nan],\n",
    "#     'r_nan': r_nan,\n",
    "#     'c_nan': c_nan,\n",
    "#     'z': model.row_labels_,\n",
    "#     'w': model.column_labels_,\n",
    "# }, f'data/out/{dataset}-{ampute_method}-{na_prop}-{init_method}.joblib', compress=3)"
   ]
  },
  {
   "cell_type": "code",
   "execution_count": 49,
   "metadata": {},
   "outputs": [],
   "source": [
    "# ! play --no-show-progress --null --channels 1 synth 1 sine 440\n",
    "# os.system('echo -e \"\\07\" && echo -e \"\\007\"')"
   ]
  },
  {
   "cell_type": "code",
   "execution_count": 51,
   "metadata": {},
   "outputs": [],
   "source": [
    "impute_fn = _impute_block_ca\n",
    "impute_params={'ncp':2}"
   ]
  },
  {
   "cell_type": "code",
   "execution_count": null,
   "metadata": {},
   "outputs": [
    {
     "name": "stdout",
     "output_type": "stream",
     "text": [
      "############### mar ###############\n",
      "********** cstr **********\n",
      "----- 0.1 -----\n",
      "already computed\n",
      "----- 0.2 -----\n",
      "already computed\n",
      "----- 0.5 -----\n",
      "already computed\n",
      "----- 0.7 -----\n",
      "already computed\n",
      "********** WebACE **********\n",
      "----- 0.1 -----\n"
     ]
    },
    {
     "data": {
      "text/plain": [
       "CoclustModImpute(init=None, max_iter=20, n_clusters=20, n_init=10, n_jobs=2,\n",
       "                 random_state=None, tol=1e-09)"
      ]
     },
     "execution_count": 56,
     "metadata": {},
     "output_type": "execute_result"
    },
    {
     "name": "stdout",
     "output_type": "stream",
     "text": [
      "RMSE: 437.88432270301536\n"
     ]
    },
    {
     "data": {
      "text/plain": [
       "['data/out/coclustmod_impute_ca-WebACE-mar-0.1-CA.joblib']"
      ]
     },
     "execution_count": 56,
     "metadata": {},
     "output_type": "execute_result"
    },
    {
     "name": "stdout",
     "output_type": "stream",
     "text": [
      "----- 0.2 -----\n"
     ]
    },
    {
     "data": {
      "text/plain": [
       "CoclustModImpute(init=None, max_iter=20, n_clusters=20, n_init=10, n_jobs=2,\n",
       "                 random_state=None, tol=1e-09)"
      ]
     },
     "execution_count": 56,
     "metadata": {},
     "output_type": "execute_result"
    },
    {
     "name": "stdout",
     "output_type": "stream",
     "text": [
      "RMSE: 2583.201907154537\n"
     ]
    },
    {
     "data": {
      "text/plain": [
       "['data/out/coclustmod_impute_ca-WebACE-mar-0.2-CA.joblib']"
      ]
     },
     "execution_count": 56,
     "metadata": {},
     "output_type": "execute_result"
    },
    {
     "name": "stdout",
     "output_type": "stream",
     "text": [
      "----- 0.5 -----\n"
     ]
    },
    {
     "data": {
      "text/plain": [
       "CoclustModImpute(init=None, max_iter=20, n_clusters=20, n_init=10, n_jobs=2,\n",
       "                 random_state=None, tol=1e-09)"
      ]
     },
     "execution_count": 56,
     "metadata": {},
     "output_type": "execute_result"
    },
    {
     "name": "stdout",
     "output_type": "stream",
     "text": [
      "RMSE: 760.9880202545952\n"
     ]
    },
    {
     "data": {
      "text/plain": [
       "['data/out/coclustmod_impute_ca-WebACE-mar-0.5-CA.joblib']"
      ]
     },
     "execution_count": 56,
     "metadata": {},
     "output_type": "execute_result"
    },
    {
     "name": "stdout",
     "output_type": "stream",
     "text": [
      "----- 0.7 -----\n"
     ]
    },
    {
     "data": {
      "text/plain": [
       "CoclustModImpute(init=None, max_iter=20, n_clusters=20, n_init=10, n_jobs=2,\n",
       "                 random_state=None, tol=1e-09)"
      ]
     },
     "execution_count": 56,
     "metadata": {},
     "output_type": "execute_result"
    },
    {
     "name": "stdout",
     "output_type": "stream",
     "text": [
      "RMSE: 102340.2267293851\n"
     ]
    },
    {
     "data": {
      "text/plain": [
       "['data/out/coclustmod_impute_ca-WebACE-mar-0.7-CA.joblib']"
      ]
     },
     "execution_count": 56,
     "metadata": {},
     "output_type": "execute_result"
    },
    {
     "name": "stdout",
     "output_type": "stream",
     "text": [
      "********** classic3 **********\n",
      "----- 0.1 -----\n"
     ]
    },
    {
     "data": {
      "text/plain": [
       "CoclustModImpute(init=None, max_iter=20, n_clusters=3, n_init=10, n_jobs=2,\n",
       "                 random_state=None, tol=1e-09)"
      ]
     },
     "execution_count": 56,
     "metadata": {},
     "output_type": "execute_result"
    },
    {
     "name": "stdout",
     "output_type": "stream",
     "text": [
      "RMSE: 0.2176207991413755\n"
     ]
    },
    {
     "data": {
      "text/plain": [
       "['data/out/coclustmod_impute_ca-classic3-mar-0.1-CA.joblib']"
      ]
     },
     "execution_count": 56,
     "metadata": {},
     "output_type": "execute_result"
    },
    {
     "name": "stdout",
     "output_type": "stream",
     "text": [
      "----- 0.2 -----\n"
     ]
    },
    {
     "data": {
      "text/plain": [
       "CoclustModImpute(init=None, max_iter=20, n_clusters=3, n_init=10, n_jobs=2,\n",
       "                 random_state=None, tol=1e-09)"
      ]
     },
     "execution_count": 56,
     "metadata": {},
     "output_type": "execute_result"
    },
    {
     "name": "stdout",
     "output_type": "stream",
     "text": [
      "RMSE: 0.20085508971602636\n"
     ]
    },
    {
     "data": {
      "text/plain": [
       "['data/out/coclustmod_impute_ca-classic3-mar-0.2-CA.joblib']"
      ]
     },
     "execution_count": 56,
     "metadata": {},
     "output_type": "execute_result"
    },
    {
     "name": "stdout",
     "output_type": "stream",
     "text": [
      "----- 0.5 -----\n"
     ]
    },
    {
     "data": {
      "text/plain": [
       "CoclustModImpute(init=None, max_iter=20, n_clusters=3, n_init=10, n_jobs=2,\n",
       "                 random_state=None, tol=1e-09)"
      ]
     },
     "execution_count": 56,
     "metadata": {},
     "output_type": "execute_result"
    },
    {
     "name": "stdout",
     "output_type": "stream",
     "text": [
      "RMSE: 0.18039055209313176\n"
     ]
    },
    {
     "data": {
      "text/plain": [
       "['data/out/coclustmod_impute_ca-classic3-mar-0.5-CA.joblib']"
      ]
     },
     "execution_count": 56,
     "metadata": {},
     "output_type": "execute_result"
    },
    {
     "name": "stdout",
     "output_type": "stream",
     "text": [
      "----- 0.7 -----\n"
     ]
    }
   ],
   "source": [
    "for init_method in ['CA', 'zero', 'rand']:\n",
    "    for ampute_method in ('mar','mcar'):\n",
    "        print(\"#\"*15, ampute_method, \"#\"*15)\n",
    "        for dataset in keys:\n",
    "            print(\"*\"*10, dataset, \"*\"*10)\n",
    "            mat = sio.loadmat(f'data/{dataset}.mat')\n",
    "            X = mat[keys[dataset][1]]\n",
    "            y = mat[keys[dataset][0]]\n",
    "            if isinstance(X, sps.csr_matrix) or isinstance(X, sps.csc_matrix):\n",
    "                X = X.toarray()\n",
    "            if isinstance(y, sps.csr_matrix) or isinstance(y, sps.csc_matrix):\n",
    "                y = y.toarray()\n",
    "            n_clusters = len(np.unique(y.ravel()))\n",
    "\n",
    "            for na_prop in na_props:\n",
    "                print(\"-\"*5, na_prop, \"-\"*5)\n",
    "                save_path = f'data/out/coclustmod_impute_ca-{dataset}-{ampute_method}-{na_prop}-{init_method}.joblib'\n",
    "                if os.path.exists(save_path):\n",
    "                    print('already computed')\n",
    "                    continue\n",
    "    #             print('stopping')\n",
    "    #             break\n",
    "                if ampute_method == 'mcar':\n",
    "                    X_missing, r_nan, c_nan = ampute_mcar(X, na_prop)\n",
    "                elif ampute_method == 'mar':\n",
    "                    obj = joblib.load(f'data/out/nan_idx-{dataset}-mar-{na_prop}.joblib')\n",
    "                    r_nan, c_nan = obj['r_nan'], obj['c_nan']\n",
    "                    X_missing = X.astype(float)\n",
    "                    X_missing[r_nan, c_nan] = np.nan\n",
    "    #                 X_missing, r_nan, c_nan = ampute_mar(X, na_prop)\n",
    "\n",
    "                model = CoclustModImpute(n_clusters=n_clusters, n_init=10, n_jobs=2)\n",
    "                if init_method == 'CA':\n",
    "                    m = joblib.load(f'data/missMDA_imputed/{dataset}_{int(na_prop*100)}__{ampute_method}.joblib')\n",
    "                    model.fit(X_missing, impute_fn, impute_params, initial_vals=m['imputed'])\n",
    "                else:\n",
    "                    model.fit(X_missing, impute_fn, impute_params, initial_vals=impute_init)\n",
    "\n",
    "                diff = np.abs(X-model.X_)\n",
    "                print(f\"RMSE: {((diff**2).sum()/r_nan.shape[0])**.5}\")\n",
    "\n",
    "                joblib.dump({\n",
    "                    'imputed': model.X_[r_nan, c_nan],\n",
    "                    'real': X[r_nan, c_nan],\n",
    "                    'r_nan': r_nan,\n",
    "                    'c_nan': c_nan,\n",
    "                    'z': model.row_labels_,\n",
    "                    'w': model.column_labels_,\n",
    "                }, save_path, compress=3)\n",
    "    \n",
    "os.system('echo -e \"\\07\" && echo -e \"\\007\"')"
   ]
  },
  {
   "cell_type": "code",
   "execution_count": null,
   "metadata": {},
   "outputs": [],
   "source": []
  }
 ],
 "metadata": {
  "kernelspec": {
   "display_name": "Python 3",
   "language": "python",
   "name": "python3"
  },
  "language_info": {
   "codemirror_mode": {
    "name": "ipython",
    "version": 3
   },
   "file_extension": ".py",
   "mimetype": "text/x-python",
   "name": "python",
   "nbconvert_exporter": "python",
   "pygments_lexer": "ipython3",
   "version": "3.7.3"
  }
 },
 "nbformat": 4,
 "nbformat_minor": 4
}
