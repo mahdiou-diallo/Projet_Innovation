{
 "cells": [
  {
   "cell_type": "code",
   "execution_count": 1,
   "metadata": {},
   "outputs": [],
   "source": [
    "%reload_ext autoreload\n",
    "%reload_ext rpy2.ipython"
   ]
  },
  {
   "cell_type": "code",
   "execution_count": 2,
   "metadata": {},
   "outputs": [],
   "source": [
    "import numpy as np\n",
    "import matplotlib.pyplot as plt\n",
    "\n",
    "import scipy.io as sio\n",
    "import scipy.sparse as sps\n",
    "from joblib import dump, load\n",
    "\n",
    "from ampute import ampute_mcar, ampute_mar\n",
    "#from coclust_mod_impute import (CoclustModImpute,\n",
    "#                                summarize_blocks, get_block_counts,\n",
    "#                                _impute_block_representative)\n",
    "#from utils import show_matrix"
   ]
  },
  {
   "cell_type": "code",
   "execution_count": 3,
   "metadata": {},
   "outputs": [
    {
     "name": "stderr",
     "output_type": "stream",
     "text": [
      "R[write to console]: R.matlab v3.6.2 (2018-09-26) successfully loaded. See ?R.matlab for help.\n",
      "\n",
      "R[write to console]: \n",
      "Attachement du package : ‘R.matlab’\n",
      "\n",
      "\n",
      "R[write to console]: The following objects are masked from ‘package:base’:\n",
      "\n",
      "    getOption, isOpen\n",
      "\n",
      "\n"
     ]
    }
   ],
   "source": [
    "%%R\n",
    "# library(mice)\n",
    "library(missMDA)\n",
    "library(FactoMineR)\n",
    "library(R.matlab)"
   ]
  },
  {
   "cell_type": "code",
   "execution_count": null,
   "metadata": {},
   "outputs": [],
   "source": []
  },
  {
   "cell_type": "code",
   "execution_count": 4,
   "metadata": {},
   "outputs": [],
   "source": [
    "def ampute_mar_mah(X,lien):   \n",
    "    l=load(lien)\n",
    "    x=l[\"r_nan\"]\n",
    "    y=l[\"c_nan\"]\n",
    "    X_nan=X.astype(float)\n",
    "    X_nan[x,y]=np.nan\n",
    "    return X_nan, x, y"
   ]
  },
  {
   "cell_type": "code",
   "execution_count": null,
   "metadata": {},
   "outputs": [],
   "source": []
  },
  {
   "cell_type": "code",
   "execution_count": 17,
   "metadata": {},
   "outputs": [],
   "source": [
    "%%R -o cstr_df\n",
    "cstr=readMat(\"nadif_data/cstr.mat\", sparseMatrixClass = \"matrix\")\n",
    "cstr_df=cstr$fea #as.data.frame(cstr)\n",
    "# missMDA #"
   ]
  },
  {
   "cell_type": "code",
   "execution_count": 18,
   "metadata": {},
   "outputs": [],
   "source": [
    "cstr_nan, x, y=ampute_mar_mah(cstr_df, \"mar missing data/nan_idx-cstr-mar-0.7.joblib\")"
   ]
  },
  {
   "cell_type": "code",
   "execution_count": 19,
   "metadata": {},
   "outputs": [],
   "source": [
    "%%R -i cstr_nan,cstr_df -o cstr_recon\n",
    "cstr_recon = imputeCA(cstr_nan, ncp=2)"
   ]
  },
  {
   "cell_type": "code",
   "execution_count": 20,
   "metadata": {},
   "outputs": [
    {
     "data": {
      "text/plain": [
       "['mar/cstr_70%_mar.joblib']"
      ]
     },
     "execution_count": 20,
     "metadata": {},
     "output_type": "execute_result"
    }
   ],
   "source": [
    "dump({\n",
    "                'imputed': cstr_recon[x, y],\n",
    "                'real': cstr_df[x, y],\n",
    "                'r_nan': x,\n",
    "                'c_nan': y,\n",
    "            }, 'mar/cstr_70%_mar.joblib', compress=3)"
   ]
  },
  {
   "cell_type": "code",
   "execution_count": null,
   "metadata": {},
   "outputs": [],
   "source": [
    "#dump([cstr_recon, x, y], filename='cstr_20%_mcar.joblib')"
   ]
  },
  {
   "cell_type": "code",
   "execution_count": null,
   "metadata": {},
   "outputs": [],
   "source": [
    "#cstr_nan, x, y=load('cstr.joblib')"
   ]
  },
  {
   "cell_type": "code",
   "execution_count": null,
   "metadata": {},
   "outputs": [],
   "source": []
  },
  {
   "cell_type": "code",
   "execution_count": 68,
   "metadata": {},
   "outputs": [],
   "source": [
    "%%R -o classic4_df\n",
    "classic4=readMat(\"nadif_data/classic4.mat\", sparseMatrixClass = \"matrix\")\n",
    "classic4_df=classic4$mat #as.data.frame(cstr)\n",
    "# missMDA #"
   ]
  },
  {
   "cell_type": "code",
   "execution_count": 69,
   "metadata": {},
   "outputs": [],
   "source": [
    "classic4_nan, x, y=ampute_mar_mah(classic4_df, \"mar missing data/nan_idx-classic4-mar-0.7.joblib\")"
   ]
  },
  {
   "cell_type": "code",
   "execution_count": 70,
   "metadata": {},
   "outputs": [],
   "source": [
    "%%R -i classic4_nan,classic4_df -o classic4_recon\n",
    "classic4_recon = imputeCA(classic4_nan, ncp=2)"
   ]
  },
  {
   "cell_type": "code",
   "execution_count": 71,
   "metadata": {},
   "outputs": [
    {
     "data": {
      "text/plain": [
       "['mar/classic4_70%_mar.joblib']"
      ]
     },
     "execution_count": 71,
     "metadata": {},
     "output_type": "execute_result"
    }
   ],
   "source": [
    "dump({\n",
    "                'imputed': classic4_recon[x, y],\n",
    "                'real': classic4_df[x, y],\n",
    "                'r_nan': x,\n",
    "                'c_nan': y,\n",
    "            }, 'mar/classic4_70%_mar.joblib', compress=3)"
   ]
  },
  {
   "cell_type": "code",
   "execution_count": null,
   "metadata": {},
   "outputs": [],
   "source": [
    "#dump([classic4_recon, x, y], filename='classic4_2%_mcar.joblib')"
   ]
  },
  {
   "cell_type": "code",
   "execution_count": null,
   "metadata": {},
   "outputs": [],
   "source": []
  },
  {
   "cell_type": "code",
   "execution_count": 34,
   "metadata": {},
   "outputs": [],
   "source": [
    "%%R -o webace_df\n",
    "webace=readMat(\"datasets/WebACE.mat\", sparseMatrixClass = \"matrix\")\n",
    "webace_df=webace$fea #as.data.frame(cstr)\n",
    "# missMDA #"
   ]
  },
  {
   "cell_type": "code",
   "execution_count": 35,
   "metadata": {},
   "outputs": [],
   "source": [
    "webace_nan, x, y=ampute_mar_mah(webace_df, \"mar missing data/nan_idx-WebACE-mar-0.1.joblib\")"
   ]
  },
  {
   "cell_type": "code",
   "execution_count": 36,
   "metadata": {},
   "outputs": [],
   "source": [
    "%%R -i webace_nan,webace_df -o webace_recon\n",
    "webace_recon = imputeCA(webace_nan, ncp=2)"
   ]
  },
  {
   "cell_type": "code",
   "execution_count": 38,
   "metadata": {},
   "outputs": [
    {
     "data": {
      "text/plain": [
       "['mar/webace_10%_mar.joblib']"
      ]
     },
     "execution_count": 38,
     "metadata": {},
     "output_type": "execute_result"
    }
   ],
   "source": [
    "dump({\n",
    "                'imputed': webace_recon[x, y],\n",
    "                'real': webace_df[x, y],\n",
    "                'r_nan': x,\n",
    "                'c_nan': y,\n",
    "            }, 'mar/webace_10%_mar.joblib', compress=3)"
   ]
  },
  {
   "cell_type": "code",
   "execution_count": null,
   "metadata": {},
   "outputs": [],
   "source": [
    "#dump([webace_recon, x, y], filename='webace_70%_mcar.joblib')"
   ]
  },
  {
   "cell_type": "code",
   "execution_count": null,
   "metadata": {},
   "outputs": [],
   "source": []
  },
  {
   "cell_type": "code",
   "execution_count": 51,
   "metadata": {},
   "outputs": [],
   "source": [
    "%%R -o classic3_df\n",
    "classic3=readMat(\"datasets/classic3.mat\", sparseMatrixClass = \"matrix\")\n",
    "classic3_df=classic3$A #as.data.frame(cstr)\n",
    "# missMDA #"
   ]
  },
  {
   "cell_type": "code",
   "execution_count": 52,
   "metadata": {},
   "outputs": [],
   "source": [
    "classic3_nan, x, y=ampute_mar_mah(classic3_df, \"mar missing data/nan_idx-classic3-mar-0.7.joblib\")"
   ]
  },
  {
   "cell_type": "code",
   "execution_count": 53,
   "metadata": {},
   "outputs": [],
   "source": [
    "%%R -i classic3_nan,classic3_df -o classic3_recon\n",
    "classic3_recon = imputeCA(classic3_nan, ncp=2)"
   ]
  },
  {
   "cell_type": "code",
   "execution_count": 54,
   "metadata": {},
   "outputs": [
    {
     "data": {
      "text/plain": [
       "['mar/classic3_70%_mar.joblib']"
      ]
     },
     "execution_count": 54,
     "metadata": {},
     "output_type": "execute_result"
    }
   ],
   "source": [
    "dump({\n",
    "                'imputed': classic3_recon[x, y],\n",
    "                'real': classic3_df[x, y],\n",
    "                'r_nan': x,\n",
    "                'c_nan': y,\n",
    "            }, 'mar/classic3_70%_mar.joblib', compress=3)"
   ]
  },
  {
   "cell_type": "code",
   "execution_count": null,
   "metadata": {},
   "outputs": [],
   "source": [
    "#dump([classic3_recon, x, y], filename='classic3_70%_mcar.joblib')"
   ]
  },
  {
   "cell_type": "code",
   "execution_count": null,
   "metadata": {},
   "outputs": [],
   "source": []
  },
  {
   "cell_type": "code",
   "execution_count": null,
   "metadata": {},
   "outputs": [],
   "source": []
  },
  {
   "cell_type": "code",
   "execution_count": 88,
   "metadata": {},
   "outputs": [],
   "source": [
    "%%R -o reviews_df\n",
    "reviews=readMat(\"datasets/reviews.mat\", sparseMatrixClass = \"matrix\")\n",
    "reviews_df=reviews$dtm #as.data.frame(cstr)\n",
    "# missMDA #"
   ]
  },
  {
   "cell_type": "code",
   "execution_count": 89,
   "metadata": {},
   "outputs": [],
   "source": [
    "reviews_nan, x, y=ampute_mar_mah(reviews_df, \"mar missing data/nan_idx-reviews-mar-0.7.joblib\")"
   ]
  },
  {
   "cell_type": "code",
   "execution_count": 90,
   "metadata": {},
   "outputs": [],
   "source": [
    "%%R -i reviews_nan,reviews_df -o reviews_recon\n",
    "reviews_recon = imputeCA(reviews_nan, ncp=2)"
   ]
  },
  {
   "cell_type": "code",
   "execution_count": 91,
   "metadata": {},
   "outputs": [
    {
     "data": {
      "text/plain": [
       "['mar/reviews_70%_mar.joblib']"
      ]
     },
     "execution_count": 91,
     "metadata": {},
     "output_type": "execute_result"
    }
   ],
   "source": [
    "dump({\n",
    "                'imputed': reviews_recon[x, y],\n",
    "                'real': reviews_df[x, y],\n",
    "                'r_nan': x,\n",
    "                'c_nan': y,\n",
    "            }, 'mar/reviews_70%_mar.joblib', compress=3)"
   ]
  },
  {
   "cell_type": "code",
   "execution_count": null,
   "metadata": {},
   "outputs": [],
   "source": [
    "#dump([classic4_recon, x, y], filename='classic4_2%_mcar.joblib')"
   ]
  }
 ],
 "metadata": {
  "kernelspec": {
   "display_name": "Python 3",
   "language": "python",
   "name": "python3"
  },
  "language_info": {
   "codemirror_mode": {
    "name": "ipython",
    "version": 3
   },
   "file_extension": ".py",
   "mimetype": "text/x-python",
   "name": "python",
   "nbconvert_exporter": "python",
   "pygments_lexer": "ipython3",
   "version": "3.7.4"
  }
 },
 "nbformat": 4,
 "nbformat_minor": 2
}
